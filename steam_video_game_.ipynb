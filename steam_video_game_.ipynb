{
  "cells": [
    {
      "cell_type": "markdown",
      "metadata": {
        "id": "WHwPI3DlzBpJ"
      },
      "source": [
        "# STEAM VIDEO GAMES RECOMMENDATION SYSTEM\n",
        "\n",
        "we need to recommend the similar games to the user based on their behaviour"
      ]
    },
    {
      "cell_type": "markdown",
      "metadata": {
        "id": "zcySz1hYzkSm"
      },
      "source": [
        "#About dataset\n",
        "This dataset is a list of user behaviors, with columns: user-id, game-title, behavior-name, value. The behaviors included are 'purchase' and 'play'. The value indicates the degree to which the behavior was performed - in the case of 'purchase' the value is always 1, and in the case of 'play' the value represents the number of hours the user has played the game.\n",
        "\n",
        "steam-200k - (199999, 5)"
      ]
    },
    {
      "cell_type": "markdown",
      "metadata": {
        "id": "7QXgFO_Zzsj6"
      },
      "source": [
        "# Columns in dataset\n",
        "user-id\n",
        "\n",
        "game-title\n",
        "\n",
        "behavior-name\n",
        "\n",
        "value\n",
        "\n",
        "0"
      ]
    },
    {
      "cell_type": "code",
      "execution_count": null,
      "metadata": {
        "colab": {
          "base_uri": "https://localhost:8080/"
        },
        "id": "UxQitziPZYXC",
        "outputId": "36c616e4-217d-4d82-fe35-3adf31da1ddd"
      },
      "outputs": [
        {
          "name": "stdout",
          "output_type": "stream",
          "text": [
            "Mounted at /content/drive\n"
          ]
        }
      ],
      "source": []
    },
    {
      "cell_type": "code",
      "execution_count": 2,
      "metadata": {
        "id": "UxedlBqLZiew"
      },
      "outputs": [],
      "source": [
        "# import all necessary libraries\n",
        "import pandas as pd\n",
        "import numpy as np\n",
        "import matplotlib.pyplot as plt\n",
        "import seaborn as sns\n",
        "# import cosine similarity\n"
      ]
    },
    {
      "cell_type": "code",
      "execution_count": 21,
      "metadata": {
        "colab": {
          "base_uri": "https://localhost:8080/",
          "height": 206
        },
        "id": "0YPYDltXZidl",
        "outputId": "f729e66c-5707-4d9b-a9d6-e6e71780c8f1"
      },
      "outputs": [
        {
          "output_type": "execute_result",
          "data": {
            "text/plain": [
              "   151603712  The Elder Scrolls V Skyrim  purchase    1.0  0\n",
              "0  151603712  The Elder Scrolls V Skyrim      play  273.0  0\n",
              "1  151603712                   Fallout 4  purchase    1.0  0\n",
              "2  151603712                   Fallout 4      play   87.0  0\n",
              "3  151603712                       Spore  purchase    1.0  0\n",
              "4  151603712                       Spore      play   14.9  0"
            ],
            "text/html": [
              "\n",
              "  <div id=\"df-359ad5d7-f759-4a85-9ef7-4f922fedd568\">\n",
              "    <div class=\"colab-df-container\">\n",
              "      <div>\n",
              "<style scoped>\n",
              "    .dataframe tbody tr th:only-of-type {\n",
              "        vertical-align: middle;\n",
              "    }\n",
              "\n",
              "    .dataframe tbody tr th {\n",
              "        vertical-align: top;\n",
              "    }\n",
              "\n",
              "    .dataframe thead th {\n",
              "        text-align: right;\n",
              "    }\n",
              "</style>\n",
              "<table border=\"1\" class=\"dataframe\">\n",
              "  <thead>\n",
              "    <tr style=\"text-align: right;\">\n",
              "      <th></th>\n",
              "      <th>151603712</th>\n",
              "      <th>The Elder Scrolls V Skyrim</th>\n",
              "      <th>purchase</th>\n",
              "      <th>1.0</th>\n",
              "      <th>0</th>\n",
              "    </tr>\n",
              "  </thead>\n",
              "  <tbody>\n",
              "    <tr>\n",
              "      <th>0</th>\n",
              "      <td>151603712</td>\n",
              "      <td>The Elder Scrolls V Skyrim</td>\n",
              "      <td>play</td>\n",
              "      <td>273.0</td>\n",
              "      <td>0</td>\n",
              "    </tr>\n",
              "    <tr>\n",
              "      <th>1</th>\n",
              "      <td>151603712</td>\n",
              "      <td>Fallout 4</td>\n",
              "      <td>purchase</td>\n",
              "      <td>1.0</td>\n",
              "      <td>0</td>\n",
              "    </tr>\n",
              "    <tr>\n",
              "      <th>2</th>\n",
              "      <td>151603712</td>\n",
              "      <td>Fallout 4</td>\n",
              "      <td>play</td>\n",
              "      <td>87.0</td>\n",
              "      <td>0</td>\n",
              "    </tr>\n",
              "    <tr>\n",
              "      <th>3</th>\n",
              "      <td>151603712</td>\n",
              "      <td>Spore</td>\n",
              "      <td>purchase</td>\n",
              "      <td>1.0</td>\n",
              "      <td>0</td>\n",
              "    </tr>\n",
              "    <tr>\n",
              "      <th>4</th>\n",
              "      <td>151603712</td>\n",
              "      <td>Spore</td>\n",
              "      <td>play</td>\n",
              "      <td>14.9</td>\n",
              "      <td>0</td>\n",
              "    </tr>\n",
              "  </tbody>\n",
              "</table>\n",
              "</div>\n",
              "      <button class=\"colab-df-convert\" onclick=\"convertToInteractive('df-359ad5d7-f759-4a85-9ef7-4f922fedd568')\"\n",
              "              title=\"Convert this dataframe to an interactive table.\"\n",
              "              style=\"display:none;\">\n",
              "        \n",
              "  <svg xmlns=\"http://www.w3.org/2000/svg\" height=\"24px\"viewBox=\"0 0 24 24\"\n",
              "       width=\"24px\">\n",
              "    <path d=\"M0 0h24v24H0V0z\" fill=\"none\"/>\n",
              "    <path d=\"M18.56 5.44l.94 2.06.94-2.06 2.06-.94-2.06-.94-.94-2.06-.94 2.06-2.06.94zm-11 1L8.5 8.5l.94-2.06 2.06-.94-2.06-.94L8.5 2.5l-.94 2.06-2.06.94zm10 10l.94 2.06.94-2.06 2.06-.94-2.06-.94-.94-2.06-.94 2.06-2.06.94z\"/><path d=\"M17.41 7.96l-1.37-1.37c-.4-.4-.92-.59-1.43-.59-.52 0-1.04.2-1.43.59L10.3 9.45l-7.72 7.72c-.78.78-.78 2.05 0 2.83L4 21.41c.39.39.9.59 1.41.59.51 0 1.02-.2 1.41-.59l7.78-7.78 2.81-2.81c.8-.78.8-2.07 0-2.86zM5.41 20L4 18.59l7.72-7.72 1.47 1.35L5.41 20z\"/>\n",
              "  </svg>\n",
              "      </button>\n",
              "      \n",
              "  <style>\n",
              "    .colab-df-container {\n",
              "      display:flex;\n",
              "      flex-wrap:wrap;\n",
              "      gap: 12px;\n",
              "    }\n",
              "\n",
              "    .colab-df-convert {\n",
              "      background-color: #E8F0FE;\n",
              "      border: none;\n",
              "      border-radius: 50%;\n",
              "      cursor: pointer;\n",
              "      display: none;\n",
              "      fill: #1967D2;\n",
              "      height: 32px;\n",
              "      padding: 0 0 0 0;\n",
              "      width: 32px;\n",
              "    }\n",
              "\n",
              "    .colab-df-convert:hover {\n",
              "      background-color: #E2EBFA;\n",
              "      box-shadow: 0px 1px 2px rgba(60, 64, 67, 0.3), 0px 1px 3px 1px rgba(60, 64, 67, 0.15);\n",
              "      fill: #174EA6;\n",
              "    }\n",
              "\n",
              "    [theme=dark] .colab-df-convert {\n",
              "      background-color: #3B4455;\n",
              "      fill: #D2E3FC;\n",
              "    }\n",
              "\n",
              "    [theme=dark] .colab-df-convert:hover {\n",
              "      background-color: #434B5C;\n",
              "      box-shadow: 0px 1px 3px 1px rgba(0, 0, 0, 0.15);\n",
              "      filter: drop-shadow(0px 1px 2px rgba(0, 0, 0, 0.3));\n",
              "      fill: #FFFFFF;\n",
              "    }\n",
              "  </style>\n",
              "\n",
              "      <script>\n",
              "        const buttonEl =\n",
              "          document.querySelector('#df-359ad5d7-f759-4a85-9ef7-4f922fedd568 button.colab-df-convert');\n",
              "        buttonEl.style.display =\n",
              "          google.colab.kernel.accessAllowed ? 'block' : 'none';\n",
              "\n",
              "        async function convertToInteractive(key) {\n",
              "          const element = document.querySelector('#df-359ad5d7-f759-4a85-9ef7-4f922fedd568');\n",
              "          const dataTable =\n",
              "            await google.colab.kernel.invokeFunction('convertToInteractive',\n",
              "                                                     [key], {});\n",
              "          if (!dataTable) return;\n",
              "\n",
              "          const docLinkHtml = 'Like what you see? Visit the ' +\n",
              "            '<a target=\"_blank\" href=https://colab.research.google.com/notebooks/data_table.ipynb>data table notebook</a>'\n",
              "            + ' to learn more about interactive tables.';\n",
              "          element.innerHTML = '';\n",
              "          dataTable['output_type'] = 'display_data';\n",
              "          await google.colab.output.renderOutput(dataTable, element);\n",
              "          const docLink = document.createElement('div');\n",
              "          docLink.innerHTML = docLinkHtml;\n",
              "          element.appendChild(docLink);\n",
              "        }\n",
              "      </script>\n",
              "    </div>\n",
              "  </div>\n",
              "  "
            ]
          },
          "metadata": {},
          "execution_count": 21
        }
      ],
      "source": [
        "# Read csv file using pandas\n",
        "steam_data = pd.read_csv('/content/steam-200k.csv')\n",
        "steam_data.head()"
      ]
    },
    {
      "cell_type": "markdown",
      "metadata": {
        "id": "h8Uu6HJ3viSr"
      },
      "source": [
        "# EDA"
      ]
    },
    {
      "cell_type": "code",
      "execution_count": 22,
      "metadata": {
        "id": "WCPhWXucZiaf"
      },
      "outputs": [],
      "source": [
        "# remane the column name as games user_id, hoursplay and status\n",
        "steam_data = steam_data.rename(columns={\"151603712\": \"User_ID\", \"The Elder Scrolls V Skyrim\":\"games\", \"purchase\":\"Status\", \"1.0\":\"Hoursplay\"})"
      ]
    },
    {
      "cell_type": "code",
      "source": [
        "steam_data.head()"
      ],
      "metadata": {
        "colab": {
          "base_uri": "https://localhost:8080/",
          "height": 206
        },
        "id": "ifd9OKKH94Fd",
        "outputId": "2b274e87-13f7-411b-af83-42fd2193f265"
      },
      "execution_count": 23,
      "outputs": [
        {
          "output_type": "execute_result",
          "data": {
            "text/plain": [
              "     User_ID                       games    Status  Hoursplay  0\n",
              "0  151603712  The Elder Scrolls V Skyrim      play      273.0  0\n",
              "1  151603712                   Fallout 4  purchase        1.0  0\n",
              "2  151603712                   Fallout 4      play       87.0  0\n",
              "3  151603712                       Spore  purchase        1.0  0\n",
              "4  151603712                       Spore      play       14.9  0"
            ],
            "text/html": [
              "\n",
              "  <div id=\"df-c7918903-2b50-433b-a12f-37126485857e\">\n",
              "    <div class=\"colab-df-container\">\n",
              "      <div>\n",
              "<style scoped>\n",
              "    .dataframe tbody tr th:only-of-type {\n",
              "        vertical-align: middle;\n",
              "    }\n",
              "\n",
              "    .dataframe tbody tr th {\n",
              "        vertical-align: top;\n",
              "    }\n",
              "\n",
              "    .dataframe thead th {\n",
              "        text-align: right;\n",
              "    }\n",
              "</style>\n",
              "<table border=\"1\" class=\"dataframe\">\n",
              "  <thead>\n",
              "    <tr style=\"text-align: right;\">\n",
              "      <th></th>\n",
              "      <th>User_ID</th>\n",
              "      <th>games</th>\n",
              "      <th>Status</th>\n",
              "      <th>Hoursplay</th>\n",
              "      <th>0</th>\n",
              "    </tr>\n",
              "  </thead>\n",
              "  <tbody>\n",
              "    <tr>\n",
              "      <th>0</th>\n",
              "      <td>151603712</td>\n",
              "      <td>The Elder Scrolls V Skyrim</td>\n",
              "      <td>play</td>\n",
              "      <td>273.0</td>\n",
              "      <td>0</td>\n",
              "    </tr>\n",
              "    <tr>\n",
              "      <th>1</th>\n",
              "      <td>151603712</td>\n",
              "      <td>Fallout 4</td>\n",
              "      <td>purchase</td>\n",
              "      <td>1.0</td>\n",
              "      <td>0</td>\n",
              "    </tr>\n",
              "    <tr>\n",
              "      <th>2</th>\n",
              "      <td>151603712</td>\n",
              "      <td>Fallout 4</td>\n",
              "      <td>play</td>\n",
              "      <td>87.0</td>\n",
              "      <td>0</td>\n",
              "    </tr>\n",
              "    <tr>\n",
              "      <th>3</th>\n",
              "      <td>151603712</td>\n",
              "      <td>Spore</td>\n",
              "      <td>purchase</td>\n",
              "      <td>1.0</td>\n",
              "      <td>0</td>\n",
              "    </tr>\n",
              "    <tr>\n",
              "      <th>4</th>\n",
              "      <td>151603712</td>\n",
              "      <td>Spore</td>\n",
              "      <td>play</td>\n",
              "      <td>14.9</td>\n",
              "      <td>0</td>\n",
              "    </tr>\n",
              "  </tbody>\n",
              "</table>\n",
              "</div>\n",
              "      <button class=\"colab-df-convert\" onclick=\"convertToInteractive('df-c7918903-2b50-433b-a12f-37126485857e')\"\n",
              "              title=\"Convert this dataframe to an interactive table.\"\n",
              "              style=\"display:none;\">\n",
              "        \n",
              "  <svg xmlns=\"http://www.w3.org/2000/svg\" height=\"24px\"viewBox=\"0 0 24 24\"\n",
              "       width=\"24px\">\n",
              "    <path d=\"M0 0h24v24H0V0z\" fill=\"none\"/>\n",
              "    <path d=\"M18.56 5.44l.94 2.06.94-2.06 2.06-.94-2.06-.94-.94-2.06-.94 2.06-2.06.94zm-11 1L8.5 8.5l.94-2.06 2.06-.94-2.06-.94L8.5 2.5l-.94 2.06-2.06.94zm10 10l.94 2.06.94-2.06 2.06-.94-2.06-.94-.94-2.06-.94 2.06-2.06.94z\"/><path d=\"M17.41 7.96l-1.37-1.37c-.4-.4-.92-.59-1.43-.59-.52 0-1.04.2-1.43.59L10.3 9.45l-7.72 7.72c-.78.78-.78 2.05 0 2.83L4 21.41c.39.39.9.59 1.41.59.51 0 1.02-.2 1.41-.59l7.78-7.78 2.81-2.81c.8-.78.8-2.07 0-2.86zM5.41 20L4 18.59l7.72-7.72 1.47 1.35L5.41 20z\"/>\n",
              "  </svg>\n",
              "      </button>\n",
              "      \n",
              "  <style>\n",
              "    .colab-df-container {\n",
              "      display:flex;\n",
              "      flex-wrap:wrap;\n",
              "      gap: 12px;\n",
              "    }\n",
              "\n",
              "    .colab-df-convert {\n",
              "      background-color: #E8F0FE;\n",
              "      border: none;\n",
              "      border-radius: 50%;\n",
              "      cursor: pointer;\n",
              "      display: none;\n",
              "      fill: #1967D2;\n",
              "      height: 32px;\n",
              "      padding: 0 0 0 0;\n",
              "      width: 32px;\n",
              "    }\n",
              "\n",
              "    .colab-df-convert:hover {\n",
              "      background-color: #E2EBFA;\n",
              "      box-shadow: 0px 1px 2px rgba(60, 64, 67, 0.3), 0px 1px 3px 1px rgba(60, 64, 67, 0.15);\n",
              "      fill: #174EA6;\n",
              "    }\n",
              "\n",
              "    [theme=dark] .colab-df-convert {\n",
              "      background-color: #3B4455;\n",
              "      fill: #D2E3FC;\n",
              "    }\n",
              "\n",
              "    [theme=dark] .colab-df-convert:hover {\n",
              "      background-color: #434B5C;\n",
              "      box-shadow: 0px 1px 3px 1px rgba(0, 0, 0, 0.15);\n",
              "      filter: drop-shadow(0px 1px 2px rgba(0, 0, 0, 0.3));\n",
              "      fill: #FFFFFF;\n",
              "    }\n",
              "  </style>\n",
              "\n",
              "      <script>\n",
              "        const buttonEl =\n",
              "          document.querySelector('#df-c7918903-2b50-433b-a12f-37126485857e button.colab-df-convert');\n",
              "        buttonEl.style.display =\n",
              "          google.colab.kernel.accessAllowed ? 'block' : 'none';\n",
              "\n",
              "        async function convertToInteractive(key) {\n",
              "          const element = document.querySelector('#df-c7918903-2b50-433b-a12f-37126485857e');\n",
              "          const dataTable =\n",
              "            await google.colab.kernel.invokeFunction('convertToInteractive',\n",
              "                                                     [key], {});\n",
              "          if (!dataTable) return;\n",
              "\n",
              "          const docLinkHtml = 'Like what you see? Visit the ' +\n",
              "            '<a target=\"_blank\" href=https://colab.research.google.com/notebooks/data_table.ipynb>data table notebook</a>'\n",
              "            + ' to learn more about interactive tables.';\n",
              "          element.innerHTML = '';\n",
              "          dataTable['output_type'] = 'display_data';\n",
              "          await google.colab.output.renderOutput(dataTable, element);\n",
              "          const docLink = document.createElement('div');\n",
              "          docLink.innerHTML = docLinkHtml;\n",
              "          element.appendChild(docLink);\n",
              "        }\n",
              "      </script>\n",
              "    </div>\n",
              "  </div>\n",
              "  "
            ]
          },
          "metadata": {},
          "execution_count": 23
        }
      ]
    },
    {
      "cell_type": "code",
      "execution_count": 24,
      "metadata": {
        "id": "FjXsB0ixZiZb"
      },
      "outputs": [],
      "source": [
        "#drop 0 column\n",
        "steam_data = steam_data.drop('0', axis=1)"
      ]
    },
    {
      "cell_type": "code",
      "execution_count": 25,
      "metadata": {
        "id": "QeH3M09xJCC-",
        "colab": {
          "base_uri": "https://localhost:8080/"
        },
        "outputId": "f52021c2-d193-4f41-ac2f-e8ec2322aa67"
      },
      "outputs": [
        {
          "output_type": "execute_result",
          "data": {
            "text/plain": [
              "707"
            ]
          },
          "metadata": {},
          "execution_count": 25
        }
      ],
      "source": [
        "#drop duplicate user_id and games keep the last one\n",
        "steam_data.duplicated().sum()"
      ]
    },
    {
      "cell_type": "code",
      "source": [
        "steam_data = steam_data.drop_duplicates()"
      ],
      "metadata": {
        "id": "QXl-wEYu_YqV"
      },
      "execution_count": 26,
      "outputs": []
    },
    {
      "cell_type": "code",
      "execution_count": 27,
      "metadata": {
        "colab": {
          "base_uri": "https://localhost:8080/"
        },
        "id": "GKdK4DCiv9k8",
        "outputId": "4dea85c8-2cc4-4901-dd8d-f5a12c175a39"
      },
      "outputs": [
        {
          "output_type": "execute_result",
          "data": {
            "text/plain": [
              "(199292, 4)"
            ]
          },
          "metadata": {},
          "execution_count": 27
        }
      ],
      "source": [
        "#check the shape of the dataset\n",
        "steam_data.shape"
      ]
    },
    {
      "cell_type": "code",
      "execution_count": 28,
      "metadata": {
        "colab": {
          "base_uri": "https://localhost:8080/"
        },
        "id": "cFWsJSFav9jQ",
        "outputId": "49e6c72e-9187-42b7-ed6d-a0c0d8c08d71"
      },
      "outputs": [
        {
          "output_type": "execute_result",
          "data": {
            "text/plain": [
              "Index(['User_ID', 'games', 'Status', 'Hoursplay'], dtype='object')"
            ]
          },
          "metadata": {},
          "execution_count": 28
        }
      ],
      "source": [
        "#check columns of the dataset\n",
        "steam_data.columns"
      ]
    },
    {
      "cell_type": "code",
      "execution_count": 29,
      "metadata": {
        "colab": {
          "base_uri": "https://localhost:8080/"
        },
        "id": "cfmQuScuv9gu",
        "outputId": "f16c681a-2253-43c9-e4bc-42c1e9c48bed"
      },
      "outputs": [
        {
          "output_type": "stream",
          "name": "stdout",
          "text": [
            "<class 'pandas.core.frame.DataFrame'>\n",
            "Int64Index: 199292 entries, 0 to 199998\n",
            "Data columns (total 4 columns):\n",
            " #   Column     Non-Null Count   Dtype  \n",
            "---  ------     --------------   -----  \n",
            " 0   User_ID    199292 non-null  int64  \n",
            " 1   games      199292 non-null  object \n",
            " 2   Status     199292 non-null  object \n",
            " 3   Hoursplay  199292 non-null  float64\n",
            "dtypes: float64(1), int64(1), object(2)\n",
            "memory usage: 7.6+ MB\n"
          ]
        }
      ],
      "source": [
        "# Check which columns are having categorical, numerical or boolean values of dataset\n",
        "steam_data.info()"
      ]
    },
    {
      "cell_type": "code",
      "execution_count": 30,
      "metadata": {
        "colab": {
          "base_uri": "https://localhost:8080/"
        },
        "id": "4SAr4k5Wv9eS",
        "outputId": "609688c1-3557-4a35-c0b2-780609f53151"
      },
      "outputs": [
        {
          "output_type": "execute_result",
          "data": {
            "text/plain": [
              "User_ID      0\n",
              "games        0\n",
              "Status       0\n",
              "Hoursplay    0\n",
              "dtype: int64"
            ]
          },
          "metadata": {},
          "execution_count": 30
        }
      ],
      "source": [
        "# Check for missing values in all the columnns of the train_dataset\n",
        "steam_data.isnull().sum()"
      ]
    },
    {
      "cell_type": "code",
      "execution_count": 31,
      "metadata": {
        "colab": {
          "base_uri": "https://localhost:8080/"
        },
        "id": "fGOiyPTkv9cC",
        "outputId": "44836a0a-ec00-4e37-b802-5269f3d01d61"
      },
      "outputs": [
        {
          "output_type": "execute_result",
          "data": {
            "text/plain": [
              "Dota 2                             9682\n",
              "Team Fortress 2                    4646\n",
              "Counter-Strike Global Offensive    2789\n",
              "Unturned                           2632\n",
              "Left 4 Dead 2                      1752\n",
              "                                   ... \n",
              "Putt-Putt Joins the Parade            1\n",
              "Ducati World Championship             1\n",
              "Chunk of Change Knight                1\n",
              "STASIS                                1\n",
              "Soccertron                            1\n",
              "Name: games, Length: 5155, dtype: int64"
            ]
          },
          "metadata": {},
          "execution_count": 31
        }
      ],
      "source": [
        "# get how many unique values are in games column of dataset\n",
        "steam_data['games'].value_counts()"
      ]
    },
    {
      "cell_type": "code",
      "execution_count": 32,
      "metadata": {
        "colab": {
          "base_uri": "https://localhost:8080/"
        },
        "id": "QgE7Fw_Nv9aA",
        "outputId": "8f5a9fae-540d-44ef-86af-a8c9fcc015e3"
      },
      "outputs": [
        {
          "output_type": "execute_result",
          "data": {
            "text/plain": [
              "purchase    128803\n",
              "play         70489\n",
              "Name: Status, dtype: int64"
            ]
          },
          "metadata": {},
          "execution_count": 32
        }
      ],
      "source": [
        "# get the total count of play and total count of purchase\n",
        "steam_data['Status'].value_counts()"
      ]
    },
    {
      "cell_type": "code",
      "execution_count": 33,
      "metadata": {
        "colab": {
          "base_uri": "https://localhost:8080/",
          "height": 300
        },
        "id": "1VxaHrDfv9Wo",
        "outputId": "cea59760-79d0-46dd-fffa-0db16d1fbafb"
      },
      "outputs": [
        {
          "output_type": "execute_result",
          "data": {
            "text/plain": [
              "            User_ID      Hoursplay\n",
              "count  1.992920e+05  199292.000000\n",
              "mean   1.037179e+08      17.934332\n",
              "std    7.212058e+07     138.298294\n",
              "min    5.250000e+03       0.100000\n",
              "25%    4.738430e+07       1.000000\n",
              "50%    8.691201e+07       1.000000\n",
              "75%    1.542309e+08       1.400000\n",
              "max    3.099031e+08   11754.000000"
            ],
            "text/html": [
              "\n",
              "  <div id=\"df-ed2981be-786d-40d0-b3da-6b98c94174ea\">\n",
              "    <div class=\"colab-df-container\">\n",
              "      <div>\n",
              "<style scoped>\n",
              "    .dataframe tbody tr th:only-of-type {\n",
              "        vertical-align: middle;\n",
              "    }\n",
              "\n",
              "    .dataframe tbody tr th {\n",
              "        vertical-align: top;\n",
              "    }\n",
              "\n",
              "    .dataframe thead th {\n",
              "        text-align: right;\n",
              "    }\n",
              "</style>\n",
              "<table border=\"1\" class=\"dataframe\">\n",
              "  <thead>\n",
              "    <tr style=\"text-align: right;\">\n",
              "      <th></th>\n",
              "      <th>User_ID</th>\n",
              "      <th>Hoursplay</th>\n",
              "    </tr>\n",
              "  </thead>\n",
              "  <tbody>\n",
              "    <tr>\n",
              "      <th>count</th>\n",
              "      <td>1.992920e+05</td>\n",
              "      <td>199292.000000</td>\n",
              "    </tr>\n",
              "    <tr>\n",
              "      <th>mean</th>\n",
              "      <td>1.037179e+08</td>\n",
              "      <td>17.934332</td>\n",
              "    </tr>\n",
              "    <tr>\n",
              "      <th>std</th>\n",
              "      <td>7.212058e+07</td>\n",
              "      <td>138.298294</td>\n",
              "    </tr>\n",
              "    <tr>\n",
              "      <th>min</th>\n",
              "      <td>5.250000e+03</td>\n",
              "      <td>0.100000</td>\n",
              "    </tr>\n",
              "    <tr>\n",
              "      <th>25%</th>\n",
              "      <td>4.738430e+07</td>\n",
              "      <td>1.000000</td>\n",
              "    </tr>\n",
              "    <tr>\n",
              "      <th>50%</th>\n",
              "      <td>8.691201e+07</td>\n",
              "      <td>1.000000</td>\n",
              "    </tr>\n",
              "    <tr>\n",
              "      <th>75%</th>\n",
              "      <td>1.542309e+08</td>\n",
              "      <td>1.400000</td>\n",
              "    </tr>\n",
              "    <tr>\n",
              "      <th>max</th>\n",
              "      <td>3.099031e+08</td>\n",
              "      <td>11754.000000</td>\n",
              "    </tr>\n",
              "  </tbody>\n",
              "</table>\n",
              "</div>\n",
              "      <button class=\"colab-df-convert\" onclick=\"convertToInteractive('df-ed2981be-786d-40d0-b3da-6b98c94174ea')\"\n",
              "              title=\"Convert this dataframe to an interactive table.\"\n",
              "              style=\"display:none;\">\n",
              "        \n",
              "  <svg xmlns=\"http://www.w3.org/2000/svg\" height=\"24px\"viewBox=\"0 0 24 24\"\n",
              "       width=\"24px\">\n",
              "    <path d=\"M0 0h24v24H0V0z\" fill=\"none\"/>\n",
              "    <path d=\"M18.56 5.44l.94 2.06.94-2.06 2.06-.94-2.06-.94-.94-2.06-.94 2.06-2.06.94zm-11 1L8.5 8.5l.94-2.06 2.06-.94-2.06-.94L8.5 2.5l-.94 2.06-2.06.94zm10 10l.94 2.06.94-2.06 2.06-.94-2.06-.94-.94-2.06-.94 2.06-2.06.94z\"/><path d=\"M17.41 7.96l-1.37-1.37c-.4-.4-.92-.59-1.43-.59-.52 0-1.04.2-1.43.59L10.3 9.45l-7.72 7.72c-.78.78-.78 2.05 0 2.83L4 21.41c.39.39.9.59 1.41.59.51 0 1.02-.2 1.41-.59l7.78-7.78 2.81-2.81c.8-.78.8-2.07 0-2.86zM5.41 20L4 18.59l7.72-7.72 1.47 1.35L5.41 20z\"/>\n",
              "  </svg>\n",
              "      </button>\n",
              "      \n",
              "  <style>\n",
              "    .colab-df-container {\n",
              "      display:flex;\n",
              "      flex-wrap:wrap;\n",
              "      gap: 12px;\n",
              "    }\n",
              "\n",
              "    .colab-df-convert {\n",
              "      background-color: #E8F0FE;\n",
              "      border: none;\n",
              "      border-radius: 50%;\n",
              "      cursor: pointer;\n",
              "      display: none;\n",
              "      fill: #1967D2;\n",
              "      height: 32px;\n",
              "      padding: 0 0 0 0;\n",
              "      width: 32px;\n",
              "    }\n",
              "\n",
              "    .colab-df-convert:hover {\n",
              "      background-color: #E2EBFA;\n",
              "      box-shadow: 0px 1px 2px rgba(60, 64, 67, 0.3), 0px 1px 3px 1px rgba(60, 64, 67, 0.15);\n",
              "      fill: #174EA6;\n",
              "    }\n",
              "\n",
              "    [theme=dark] .colab-df-convert {\n",
              "      background-color: #3B4455;\n",
              "      fill: #D2E3FC;\n",
              "    }\n",
              "\n",
              "    [theme=dark] .colab-df-convert:hover {\n",
              "      background-color: #434B5C;\n",
              "      box-shadow: 0px 1px 3px 1px rgba(0, 0, 0, 0.15);\n",
              "      filter: drop-shadow(0px 1px 2px rgba(0, 0, 0, 0.3));\n",
              "      fill: #FFFFFF;\n",
              "    }\n",
              "  </style>\n",
              "\n",
              "      <script>\n",
              "        const buttonEl =\n",
              "          document.querySelector('#df-ed2981be-786d-40d0-b3da-6b98c94174ea button.colab-df-convert');\n",
              "        buttonEl.style.display =\n",
              "          google.colab.kernel.accessAllowed ? 'block' : 'none';\n",
              "\n",
              "        async function convertToInteractive(key) {\n",
              "          const element = document.querySelector('#df-ed2981be-786d-40d0-b3da-6b98c94174ea');\n",
              "          const dataTable =\n",
              "            await google.colab.kernel.invokeFunction('convertToInteractive',\n",
              "                                                     [key], {});\n",
              "          if (!dataTable) return;\n",
              "\n",
              "          const docLinkHtml = 'Like what you see? Visit the ' +\n",
              "            '<a target=\"_blank\" href=https://colab.research.google.com/notebooks/data_table.ipynb>data table notebook</a>'\n",
              "            + ' to learn more about interactive tables.';\n",
              "          element.innerHTML = '';\n",
              "          dataTable['output_type'] = 'display_data';\n",
              "          await google.colab.output.renderOutput(dataTable, element);\n",
              "          const docLink = document.createElement('div');\n",
              "          docLink.innerHTML = docLinkHtml;\n",
              "          element.appendChild(docLink);\n",
              "        }\n",
              "      </script>\n",
              "    </div>\n",
              "  </div>\n",
              "  "
            ]
          },
          "metadata": {},
          "execution_count": 33
        }
      ],
      "source": [
        "# For more information on the dataset like the total count in all the columns\n",
        "# min, max values and more information of the respective columns  \n",
        "steam_data.describe()"
      ]
    },
    {
      "cell_type": "markdown",
      "metadata": {
        "id": "3CgbroNkKA5F"
      },
      "source": [
        "## visualizing data"
      ]
    },
    {
      "cell_type": "code",
      "execution_count": 34,
      "metadata": {
        "colab": {
          "base_uri": "https://localhost:8080/",
          "height": 349
        },
        "id": "5OuxsDTIv9VK",
        "outputId": "88752f7f-bb60-44b2-a1b7-5509c5393828"
      },
      "outputs": [
        {
          "output_type": "execute_result",
          "data": {
            "text/plain": [
              "array([[<matplotlib.axes._subplots.AxesSubplot object at 0x7f9c8c4e94d0>,\n",
              "        <matplotlib.axes._subplots.AxesSubplot object at 0x7f9c8c4c5910>]],\n",
              "      dtype=object)"
            ]
          },
          "metadata": {},
          "execution_count": 34
        },
        {
          "output_type": "display_data",
          "data": {
            "text/plain": [
              "<Figure size 432x288 with 2 Axes>"
            ],
            "image/png": "[encoded data removed]"
          },
          "metadata": {
            "needs_background": "light"
          }
        }
      ],
      "source": [
        "# Histogram using pandas \n",
        "steam_data.hist()"
      ]
    },
    {
      "cell_type": "code",
      "execution_count": 41,
      "metadata": {
        "colab": {
          "base_uri": "https://localhost:8080/",
          "height": 297
        },
        "id": "8XQcDkwiv9Rx",
        "outputId": "340be08e-ff34-4c31-fe5b-7c5524e7485a"
      },
      "outputs": [
        {
          "output_type": "execute_result",
          "data": {
            "text/plain": [
              "Text(0, 0.5, 'Status')"
            ]
          },
          "metadata": {},
          "execution_count": 41
        },
        {
          "output_type": "display_data",
          "data": {
            "text/plain": [
              "<Figure size 432x288 with 1 Axes>"
            ],
            "image/png": "[encoded data removed]"
          },
          "metadata": {
            "needs_background": "light"
          }
        }
      ],
      "source": [
        "# plot a horizontal bar plot of column status\n",
        "#steam_order = steam_data['Status'].value_counts()\n",
        "sns.countplot(data=steam_data, y='Status')\n",
        "plt.xlabel('count')\n",
        "plt.ylabel('Status')"
      ]
    },
    {
      "cell_type": "code",
      "execution_count": 27,
      "metadata": {
        "colab": {
          "base_uri": "https://localhost:8080/",
          "height": 289
        },
        "id": "o45Z0Ngav9Mt",
        "outputId": "131479bd-946d-4483-da31-749434cf6631"
      },
      "outputs": [
        {
          "output_type": "execute_result",
          "data": {
            "text/plain": [
              "<matplotlib.axes._subplots.AxesSubplot at 0x7fafb22dcb10>"
            ]
          },
          "metadata": {},
          "execution_count": 27
        },
        {
          "output_type": "display_data",
          "data": {
            "text/plain": [
              "<Figure size 720x288 with 1 Axes>"
            ],
            "image/png": "[encoded data removed]"
          },
          "metadata": {
            "needs_background": "light"
          }
        }
      ],
      "source": [
        "#plot a count plot of hoursplay column\n",
        "steam_data['Hoursplay'].value_counts().head(10).plot(kind='bar', figsize=(10,4))"
      ]
    },
    {
      "cell_type": "code",
      "execution_count": 32,
      "metadata": {
        "colab": {
          "base_uri": "https://localhost:8080/",
          "height": 881
        },
        "id": "e2ddFJDbv9La",
        "outputId": "d78f283e-87a5-46ab-ce0f-a05df51fe9dd"
      },
      "outputs": [
        {
          "output_type": "execute_result",
          "data": {
            "text/plain": [
              "<matplotlib.axes._subplots.AxesSubplot at 0x7fafb1873690>"
            ]
          },
          "metadata": {},
          "execution_count": 32
        },
        {
          "output_type": "display_data",
          "data": {
            "text/plain": [
              "<Figure size 720x1080 with 1 Axes>"
            ],
            "image/png": "[encoded data removed]"
          },
          "metadata": {
            "needs_background": "light"
          }
        }
      ],
      "source": [
        "# plot a horizontal bar plot of games column for top 30 games\n",
        "steam_data['games'].value_counts().head(30).plot(kind='barh', figsize=(10,15))"
      ]
    },
    {
      "cell_type": "code",
      "execution_count": 47,
      "metadata": {
        "colab": {
          "base_uri": "https://localhost:8080/",
          "height": 297
        },
        "id": "eZUuyLejv9IQ",
        "outputId": "8518ef27-67b0-4e7a-eae9-870ae6db9564"
      },
      "outputs": [
        {
          "output_type": "execute_result",
          "data": {
            "text/plain": [
              "<matplotlib.axes._subplots.AxesSubplot at 0x7f9c8a7a9f90>"
            ]
          },
          "metadata": {},
          "execution_count": 47
        },
        {
          "output_type": "display_data",
          "data": {
            "text/plain": [
              "<Figure size 432x288 with 1 Axes>"
            ],
            "image/png": "[encoded data removed]"
          },
          "metadata": {
            "needs_background": "light"
          }
        }
      ],
      "source": [
        "# plot a boxplot of status as x-axis and hoursplay as y-axis\n",
        "sns.boxplot(x='Status', y='Hoursplay', data=steam_data)"
      ]
    },
    {
      "cell_type": "markdown",
      "metadata": {
        "id": "oLP2qFAMvcK8"
      },
      "source": [
        "# converting hours to rating"
      ]
    },
    {
      "cell_type": "code",
      "execution_count": 48,
      "metadata": {
        "id": "eiGi1BNMZiT2"
      },
      "outputs": [],
      "source": [
        "# comvert the hoursplay into rating\n",
        "steam_data = steam_data[(steam_data['Hoursplay'] >= 2) & (steam_data['Status']=='play')]"
      ]
    },
    {
      "cell_type": "code",
      "source": [
        "steam_data = steam_data[steam_data.groupby('games').User_ID.transform(len)>=20]"
      ],
      "metadata": {
        "id": "2D3ZFETEJtZc"
      },
      "execution_count": 50,
      "outputs": []
    },
    {
      "cell_type": "code",
      "source": [
        "steam_data['games'].nunique()"
      ],
      "metadata": {
        "colab": {
          "base_uri": "https://localhost:8080/"
        },
        "id": "g4Frn7cIJs8q",
        "outputId": "617fa969-e24f-4556-a1a4-feb5af58074f"
      },
      "execution_count": 51,
      "outputs": [
        {
          "output_type": "execute_result",
          "data": {
            "text/plain": [
              "431"
            ]
          },
          "metadata": {},
          "execution_count": 51
        }
      ]
    },
    {
      "cell_type": "code",
      "source": [
        "steam_data['User_ID'] = steam_data['User_ID'].astype(str)"
      ],
      "metadata": {
        "colab": {
          "base_uri": "https://localhost:8080/"
        },
        "id": "Y78AM44uJsx0",
        "outputId": "451acfb7-d2d3-4c6e-a2a8-7fa6507ff78a"
      },
      "execution_count": 52,
      "outputs": [
        {
          "output_type": "stream",
          "name": "stderr",
          "text": [
            "/usr/local/lib/python3.7/dist-packages/ipykernel_launcher.py:1: SettingWithCopyWarning: \n",
            "A value is trying to be set on a copy of a slice from a DataFrame.\n",
            "Try using .loc[row_indexer,col_indexer] = value instead\n",
            "\n",
            "See the caveats in the documentation: https://pandas.pydata.org/pandas-docs/stable/user_guide/indexing.html#returning-a-view-versus-a-copy\n",
            "  \"\"\"Entry point for launching an IPython kernel.\n"
          ]
        }
      ]
    },
    {
      "cell_type": "code",
      "source": [
        "Average = steam_data.groupby(['games'], as_index=False).Hoursplay.mean()"
      ],
      "metadata": {
        "id": "p987H9NsKpd0"
      },
      "execution_count": 53,
      "outputs": []
    },
    {
      "cell_type": "code",
      "source": [
        "Average['Avg_Hoursplay'] = Average['Hoursplay']\n",
        "Average.drop(columns='Hoursplay', inplace=True)"
      ],
      "metadata": {
        "id": "VClBoE7mKpVj"
      },
      "execution_count": 54,
      "outputs": []
    },
    {
      "cell_type": "code",
      "source": [
        "Average.head()"
      ],
      "metadata": {
        "colab": {
          "base_uri": "https://localhost:8080/",
          "height": 206
        },
        "id": "hAJI1hYxKpQe",
        "outputId": "c8edbb1e-5082-4a15-9ee7-665d7f4975a9"
      },
      "execution_count": 55,
      "outputs": [
        {
          "output_type": "execute_result",
          "data": {
            "text/plain": [
              "                  games  Avg_Hoursplay\n",
              "0         7 Days to Die      50.777500\n",
              "1          APB Reloaded     113.377778\n",
              "2  ARK Survival Evolved     105.982812\n",
              "3         Ace of Spades      10.971739\n",
              "4  AdVenture Capitalist      67.760674"
            ],
            "text/html": [
              "\n",
              "  <div id=\"df-c63c471d-97ea-40ac-ae9e-74ed8b6680cc\">\n",
              "    <div class=\"colab-df-container\">\n",
              "      <div>\n",
              "<style scoped>\n",
              "    .dataframe tbody tr th:only-of-type {\n",
              "        vertical-align: middle;\n",
              "    }\n",
              "\n",
              "    .dataframe tbody tr th {\n",
              "        vertical-align: top;\n",
              "    }\n",
              "\n",
              "    .dataframe thead th {\n",
              "        text-align: right;\n",
              "    }\n",
              "</style>\n",
              "<table border=\"1\" class=\"dataframe\">\n",
              "  <thead>\n",
              "    <tr style=\"text-align: right;\">\n",
              "      <th></th>\n",
              "      <th>games</th>\n",
              "      <th>Avg_Hoursplay</th>\n",
              "    </tr>\n",
              "  </thead>\n",
              "  <tbody>\n",
              "    <tr>\n",
              "      <th>0</th>\n",
              "      <td>7 Days to Die</td>\n",
              "      <td>50.777500</td>\n",
              "    </tr>\n",
              "    <tr>\n",
              "      <th>1</th>\n",
              "      <td>APB Reloaded</td>\n",
              "      <td>113.377778</td>\n",
              "    </tr>\n",
              "    <tr>\n",
              "      <th>2</th>\n",
              "      <td>ARK Survival Evolved</td>\n",
              "      <td>105.982812</td>\n",
              "    </tr>\n",
              "    <tr>\n",
              "      <th>3</th>\n",
              "      <td>Ace of Spades</td>\n",
              "      <td>10.971739</td>\n",
              "    </tr>\n",
              "    <tr>\n",
              "      <th>4</th>\n",
              "      <td>AdVenture Capitalist</td>\n",
              "      <td>67.760674</td>\n",
              "    </tr>\n",
              "  </tbody>\n",
              "</table>\n",
              "</div>\n",
              "      <button class=\"colab-df-convert\" onclick=\"convertToInteractive('df-c63c471d-97ea-40ac-ae9e-74ed8b6680cc')\"\n",
              "              title=\"Convert this dataframe to an interactive table.\"\n",
              "              style=\"display:none;\">\n",
              "        \n",
              "  <svg xmlns=\"http://www.w3.org/2000/svg\" height=\"24px\"viewBox=\"0 0 24 24\"\n",
              "       width=\"24px\">\n",
              "    <path d=\"M0 0h24v24H0V0z\" fill=\"none\"/>\n",
              "    <path d=\"M18.56 5.44l.94 2.06.94-2.06 2.06-.94-2.06-.94-.94-2.06-.94 2.06-2.06.94zm-11 1L8.5 8.5l.94-2.06 2.06-.94-2.06-.94L8.5 2.5l-.94 2.06-2.06.94zm10 10l.94 2.06.94-2.06 2.06-.94-2.06-.94-.94-2.06-.94 2.06-2.06.94z\"/><path d=\"M17.41 7.96l-1.37-1.37c-.4-.4-.92-.59-1.43-.59-.52 0-1.04.2-1.43.59L10.3 9.45l-7.72 7.72c-.78.78-.78 2.05 0 2.83L4 21.41c.39.39.9.59 1.41.59.51 0 1.02-.2 1.41-.59l7.78-7.78 2.81-2.81c.8-.78.8-2.07 0-2.86zM5.41 20L4 18.59l7.72-7.72 1.47 1.35L5.41 20z\"/>\n",
              "  </svg>\n",
              "      </button>\n",
              "      \n",
              "  <style>\n",
              "    .colab-df-container {\n",
              "      display:flex;\n",
              "      flex-wrap:wrap;\n",
              "      gap: 12px;\n",
              "    }\n",
              "\n",
              "    .colab-df-convert {\n",
              "      background-color: #E8F0FE;\n",
              "      border: none;\n",
              "      border-radius: 50%;\n",
              "      cursor: pointer;\n",
              "      display: none;\n",
              "      fill: #1967D2;\n",
              "      height: 32px;\n",
              "      padding: 0 0 0 0;\n",
              "      width: 32px;\n",
              "    }\n",
              "\n",
              "    .colab-df-convert:hover {\n",
              "      background-color: #E2EBFA;\n",
              "      box-shadow: 0px 1px 2px rgba(60, 64, 67, 0.3), 0px 1px 3px 1px rgba(60, 64, 67, 0.15);\n",
              "      fill: #174EA6;\n",
              "    }\n",
              "\n",
              "    [theme=dark] .colab-df-convert {\n",
              "      background-color: #3B4455;\n",
              "      fill: #D2E3FC;\n",
              "    }\n",
              "\n",
              "    [theme=dark] .colab-df-convert:hover {\n",
              "      background-color: #434B5C;\n",
              "      box-shadow: 0px 1px 3px 1px rgba(0, 0, 0, 0.15);\n",
              "      filter: drop-shadow(0px 1px 2px rgba(0, 0, 0, 0.3));\n",
              "      fill: #FFFFFF;\n",
              "    }\n",
              "  </style>\n",
              "\n",
              "      <script>\n",
              "        const buttonEl =\n",
              "          document.querySelector('#df-c63c471d-97ea-40ac-ae9e-74ed8b6680cc button.colab-df-convert');\n",
              "        buttonEl.style.display =\n",
              "          google.colab.kernel.accessAllowed ? 'block' : 'none';\n",
              "\n",
              "        async function convertToInteractive(key) {\n",
              "          const element = document.querySelector('#df-c63c471d-97ea-40ac-ae9e-74ed8b6680cc');\n",
              "          const dataTable =\n",
              "            await google.colab.kernel.invokeFunction('convertToInteractive',\n",
              "                                                     [key], {});\n",
              "          if (!dataTable) return;\n",
              "\n",
              "          const docLinkHtml = 'Like what you see? Visit the ' +\n",
              "            '<a target=\"_blank\" href=https://colab.research.google.com/notebooks/data_table.ipynb>data table notebook</a>'\n",
              "            + ' to learn more about interactive tables.';\n",
              "          element.innerHTML = '';\n",
              "          dataTable['output_type'] = 'display_data';\n",
              "          await google.colab.output.renderOutput(dataTable, element);\n",
              "          const docLink = document.createElement('div');\n",
              "          docLink.innerHTML = docLinkHtml;\n",
              "          element.appendChild(docLink);\n",
              "        }\n",
              "      </script>\n",
              "    </div>\n",
              "  </div>\n",
              "  "
            ]
          },
          "metadata": {},
          "execution_count": 55
        }
      ]
    },
    {
      "cell_type": "code",
      "source": [
        "steam_data = steam_data.merge(Average, on='games')"
      ],
      "metadata": {
        "id": "l2l57XFqL0SL"
      },
      "execution_count": 56,
      "outputs": []
    },
    {
      "cell_type": "code",
      "source": [
        "condition = [\n",
        "    steam_data['Hoursplay'] >= (0.8*steam_data['Avg_Hoursplay']),\n",
        "    (steam_data['Hoursplay'] >= 0.6*steam_data['Avg_Hoursplay']) & (steam_data['Hoursplay']<0.8*steam_data['Avg_Hoursplay']),\n",
        "    (steam_data['Hoursplay']>= 0.4*steam_data['Avg_Hoursplay']) & (steam_data['Hoursplay']<0.6*steam_data['Avg_Hoursplay']),\n",
        "    (steam_data['Hoursplay']>= 0.2*steam_data['Avg_Hoursplay']) & (steam_data['Hoursplay']<0.4*steam_data['Avg_Hoursplay']),\n",
        "    steam_data['Hoursplay'] > 0\n",
        "\n",
        "]\n",
        "\n",
        "values = [5,4,3,2,1]\n",
        "\n",
        "steam_data['rating'] = np.select(condition, values)"
      ],
      "metadata": {
        "id": "cRC6n9BBL0M7"
      },
      "execution_count": 57,
      "outputs": []
    },
    {
      "cell_type": "code",
      "source": [
        "steam_data.head()"
      ],
      "metadata": {
        "colab": {
          "base_uri": "https://localhost:8080/",
          "height": 206
        },
        "id": "lNLh0v7jL0Iz",
        "outputId": "84655694-4462-41c2-fb0a-763cf8adec06"
      },
      "execution_count": 58,
      "outputs": [
        {
          "output_type": "execute_result",
          "data": {
            "text/plain": [
              "     User_ID                       games Status  Hoursplay  Avg_Hoursplay  \\\n",
              "0  151603712  The Elder Scrolls V Skyrim   play      273.0     115.351792   \n",
              "1   59945701  The Elder Scrolls V Skyrim   play       58.0     115.351792   \n",
              "2   92107940  The Elder Scrolls V Skyrim   play      110.0     115.351792   \n",
              "3  250006052  The Elder Scrolls V Skyrim   play      465.0     115.351792   \n",
              "4   11373749  The Elder Scrolls V Skyrim   play      220.0     115.351792   \n",
              "\n",
              "   rating  \n",
              "0       5  \n",
              "1       3  \n",
              "2       5  \n",
              "3       5  \n",
              "4       5  "
            ],
            "text/html": [
              "\n",
              "  <div id=\"df-30e68761-2de0-4ec8-8c5b-01cbd520fe55\">\n",
              "    <div class=\"colab-df-container\">\n",
              "      <div>\n",
              "<style scoped>\n",
              "    .dataframe tbody tr th:only-of-type {\n",
              "        vertical-align: middle;\n",
              "    }\n",
              "\n",
              "    .dataframe tbody tr th {\n",
              "        vertical-align: top;\n",
              "    }\n",
              "\n",
              "    .dataframe thead th {\n",
              "        text-align: right;\n",
              "    }\n",
              "</style>\n",
              "<table border=\"1\" class=\"dataframe\">\n",
              "  <thead>\n",
              "    <tr style=\"text-align: right;\">\n",
              "      <th></th>\n",
              "      <th>User_ID</th>\n",
              "      <th>games</th>\n",
              "      <th>Status</th>\n",
              "      <th>Hoursplay</th>\n",
              "      <th>Avg_Hoursplay</th>\n",
              "      <th>rating</th>\n",
              "    </tr>\n",
              "  </thead>\n",
              "  <tbody>\n",
              "    <tr>\n",
              "      <th>0</th>\n",
              "      <td>151603712</td>\n",
              "      <td>The Elder Scrolls V Skyrim</td>\n",
              "      <td>play</td>\n",
              "      <td>273.0</td>\n",
              "      <td>115.351792</td>\n",
              "      <td>5</td>\n",
              "    </tr>\n",
              "    <tr>\n",
              "      <th>1</th>\n",
              "      <td>59945701</td>\n",
              "      <td>The Elder Scrolls V Skyrim</td>\n",
              "      <td>play</td>\n",
              "      <td>58.0</td>\n",
              "      <td>115.351792</td>\n",
              "      <td>3</td>\n",
              "    </tr>\n",
              "    <tr>\n",
              "      <th>2</th>\n",
              "      <td>92107940</td>\n",
              "      <td>The Elder Scrolls V Skyrim</td>\n",
              "      <td>play</td>\n",
              "      <td>110.0</td>\n",
              "      <td>115.351792</td>\n",
              "      <td>5</td>\n",
              "    </tr>\n",
              "    <tr>\n",
              "      <th>3</th>\n",
              "      <td>250006052</td>\n",
              "      <td>The Elder Scrolls V Skyrim</td>\n",
              "      <td>play</td>\n",
              "      <td>465.0</td>\n",
              "      <td>115.351792</td>\n",
              "      <td>5</td>\n",
              "    </tr>\n",
              "    <tr>\n",
              "      <th>4</th>\n",
              "      <td>11373749</td>\n",
              "      <td>The Elder Scrolls V Skyrim</td>\n",
              "      <td>play</td>\n",
              "      <td>220.0</td>\n",
              "      <td>115.351792</td>\n",
              "      <td>5</td>\n",
              "    </tr>\n",
              "  </tbody>\n",
              "</table>\n",
              "</div>\n",
              "      <button class=\"colab-df-convert\" onclick=\"convertToInteractive('df-30e68761-2de0-4ec8-8c5b-01cbd520fe55')\"\n",
              "              title=\"Convert this dataframe to an interactive table.\"\n",
              "              style=\"display:none;\">\n",
              "        \n",
              "  <svg xmlns=\"http://www.w3.org/2000/svg\" height=\"24px\"viewBox=\"0 0 24 24\"\n",
              "       width=\"24px\">\n",
              "    <path d=\"M0 0h24v24H0V0z\" fill=\"none\"/>\n",
              "    <path d=\"M18.56 5.44l.94 2.06.94-2.06 2.06-.94-2.06-.94-.94-2.06-.94 2.06-2.06.94zm-11 1L8.5 8.5l.94-2.06 2.06-.94-2.06-.94L8.5 2.5l-.94 2.06-2.06.94zm10 10l.94 2.06.94-2.06 2.06-.94-2.06-.94-.94-2.06-.94 2.06-2.06.94z\"/><path d=\"M17.41 7.96l-1.37-1.37c-.4-.4-.92-.59-1.43-.59-.52 0-1.04.2-1.43.59L10.3 9.45l-7.72 7.72c-.78.78-.78 2.05 0 2.83L4 21.41c.39.39.9.59 1.41.59.51 0 1.02-.2 1.41-.59l7.78-7.78 2.81-2.81c.8-.78.8-2.07 0-2.86zM5.41 20L4 18.59l7.72-7.72 1.47 1.35L5.41 20z\"/>\n",
              "  </svg>\n",
              "      </button>\n",
              "      \n",
              "  <style>\n",
              "    .colab-df-container {\n",
              "      display:flex;\n",
              "      flex-wrap:wrap;\n",
              "      gap: 12px;\n",
              "    }\n",
              "\n",
              "    .colab-df-convert {\n",
              "      background-color: #E8F0FE;\n",
              "      border: none;\n",
              "      border-radius: 50%;\n",
              "      cursor: pointer;\n",
              "      display: none;\n",
              "      fill: #1967D2;\n",
              "      height: 32px;\n",
              "      padding: 0 0 0 0;\n",
              "      width: 32px;\n",
              "    }\n",
              "\n",
              "    .colab-df-convert:hover {\n",
              "      background-color: #E2EBFA;\n",
              "      box-shadow: 0px 1px 2px rgba(60, 64, 67, 0.3), 0px 1px 3px 1px rgba(60, 64, 67, 0.15);\n",
              "      fill: #174EA6;\n",
              "    }\n",
              "\n",
              "    [theme=dark] .colab-df-convert {\n",
              "      background-color: #3B4455;\n",
              "      fill: #D2E3FC;\n",
              "    }\n",
              "\n",
              "    [theme=dark] .colab-df-convert:hover {\n",
              "      background-color: #434B5C;\n",
              "      box-shadow: 0px 1px 3px 1px rgba(0, 0, 0, 0.15);\n",
              "      filter: drop-shadow(0px 1px 2px rgba(0, 0, 0, 0.3));\n",
              "      fill: #FFFFFF;\n",
              "    }\n",
              "  </style>\n",
              "\n",
              "      <script>\n",
              "        const buttonEl =\n",
              "          document.querySelector('#df-30e68761-2de0-4ec8-8c5b-01cbd520fe55 button.colab-df-convert');\n",
              "        buttonEl.style.display =\n",
              "          google.colab.kernel.accessAllowed ? 'block' : 'none';\n",
              "\n",
              "        async function convertToInteractive(key) {\n",
              "          const element = document.querySelector('#df-30e68761-2de0-4ec8-8c5b-01cbd520fe55');\n",
              "          const dataTable =\n",
              "            await google.colab.kernel.invokeFunction('convertToInteractive',\n",
              "                                                     [key], {});\n",
              "          if (!dataTable) return;\n",
              "\n",
              "          const docLinkHtml = 'Like what you see? Visit the ' +\n",
              "            '<a target=\"_blank\" href=https://colab.research.google.com/notebooks/data_table.ipynb>data table notebook</a>'\n",
              "            + ' to learn more about interactive tables.';\n",
              "          element.innerHTML = '';\n",
              "          dataTable['output_type'] = 'display_data';\n",
              "          await google.colab.output.renderOutput(dataTable, element);\n",
              "          const docLink = document.createElement('div');\n",
              "          docLink.innerHTML = docLinkHtml;\n",
              "          element.appendChild(docLink);\n",
              "        }\n",
              "      </script>\n",
              "    </div>\n",
              "  </div>\n",
              "  "
            ]
          },
          "metadata": {},
          "execution_count": 58
        }
      ]
    },
    {
      "cell_type": "code",
      "execution_count": 59,
      "metadata": {
        "id": "XXBW4xzzZiPv"
      },
      "outputs": [],
      "source": [
        "# keep only important columns( user_id, games,rating ) drop everthing else \n",
        "steam_data = steam_data.drop(['Status','Hoursplay','Avg_Hoursplay'], axis=1)"
      ]
    },
    {
      "cell_type": "code",
      "source": [
        "steam_data.head()"
      ],
      "metadata": {
        "colab": {
          "base_uri": "https://localhost:8080/",
          "height": 206
        },
        "id": "PACGw2ZVO-G9",
        "outputId": "f1c5610b-9d4d-444f-901c-4242e5292456"
      },
      "execution_count": 60,
      "outputs": [
        {
          "output_type": "execute_result",
          "data": {
            "text/plain": [
              "     User_ID                       games  rating\n",
              "0  151603712  The Elder Scrolls V Skyrim       5\n",
              "1   59945701  The Elder Scrolls V Skyrim       3\n",
              "2   92107940  The Elder Scrolls V Skyrim       5\n",
              "3  250006052  The Elder Scrolls V Skyrim       5\n",
              "4   11373749  The Elder Scrolls V Skyrim       5"
            ],
            "text/html": [
              "\n",
              "  <div id=\"df-326dcf3e-8a33-4b8b-ae22-0d855666870f\">\n",
              "    <div class=\"colab-df-container\">\n",
              "      <div>\n",
              "<style scoped>\n",
              "    .dataframe tbody tr th:only-of-type {\n",
              "        vertical-align: middle;\n",
              "    }\n",
              "\n",
              "    .dataframe tbody tr th {\n",
              "        vertical-align: top;\n",
              "    }\n",
              "\n",
              "    .dataframe thead th {\n",
              "        text-align: right;\n",
              "    }\n",
              "</style>\n",
              "<table border=\"1\" class=\"dataframe\">\n",
              "  <thead>\n",
              "    <tr style=\"text-align: right;\">\n",
              "      <th></th>\n",
              "      <th>User_ID</th>\n",
              "      <th>games</th>\n",
              "      <th>rating</th>\n",
              "    </tr>\n",
              "  </thead>\n",
              "  <tbody>\n",
              "    <tr>\n",
              "      <th>0</th>\n",
              "      <td>151603712</td>\n",
              "      <td>The Elder Scrolls V Skyrim</td>\n",
              "      <td>5</td>\n",
              "    </tr>\n",
              "    <tr>\n",
              "      <th>1</th>\n",
              "      <td>59945701</td>\n",
              "      <td>The Elder Scrolls V Skyrim</td>\n",
              "      <td>3</td>\n",
              "    </tr>\n",
              "    <tr>\n",
              "      <th>2</th>\n",
              "      <td>92107940</td>\n",
              "      <td>The Elder Scrolls V Skyrim</td>\n",
              "      <td>5</td>\n",
              "    </tr>\n",
              "    <tr>\n",
              "      <th>3</th>\n",
              "      <td>250006052</td>\n",
              "      <td>The Elder Scrolls V Skyrim</td>\n",
              "      <td>5</td>\n",
              "    </tr>\n",
              "    <tr>\n",
              "      <th>4</th>\n",
              "      <td>11373749</td>\n",
              "      <td>The Elder Scrolls V Skyrim</td>\n",
              "      <td>5</td>\n",
              "    </tr>\n",
              "  </tbody>\n",
              "</table>\n",
              "</div>\n",
              "      <button class=\"colab-df-convert\" onclick=\"convertToInteractive('df-326dcf3e-8a33-4b8b-ae22-0d855666870f')\"\n",
              "              title=\"Convert this dataframe to an interactive table.\"\n",
              "              style=\"display:none;\">\n",
              "        \n",
              "  <svg xmlns=\"http://www.w3.org/2000/svg\" height=\"24px\"viewBox=\"0 0 24 24\"\n",
              "       width=\"24px\">\n",
              "    <path d=\"M0 0h24v24H0V0z\" fill=\"none\"/>\n",
              "    <path d=\"M18.56 5.44l.94 2.06.94-2.06 2.06-.94-2.06-.94-.94-2.06-.94 2.06-2.06.94zm-11 1L8.5 8.5l.94-2.06 2.06-.94-2.06-.94L8.5 2.5l-.94 2.06-2.06.94zm10 10l.94 2.06.94-2.06 2.06-.94-2.06-.94-.94-2.06-.94 2.06-2.06.94z\"/><path d=\"M17.41 7.96l-1.37-1.37c-.4-.4-.92-.59-1.43-.59-.52 0-1.04.2-1.43.59L10.3 9.45l-7.72 7.72c-.78.78-.78 2.05 0 2.83L4 21.41c.39.39.9.59 1.41.59.51 0 1.02-.2 1.41-.59l7.78-7.78 2.81-2.81c.8-.78.8-2.07 0-2.86zM5.41 20L4 18.59l7.72-7.72 1.47 1.35L5.41 20z\"/>\n",
              "  </svg>\n",
              "      </button>\n",
              "      \n",
              "  <style>\n",
              "    .colab-df-container {\n",
              "      display:flex;\n",
              "      flex-wrap:wrap;\n",
              "      gap: 12px;\n",
              "    }\n",
              "\n",
              "    .colab-df-convert {\n",
              "      background-color: #E8F0FE;\n",
              "      border: none;\n",
              "      border-radius: 50%;\n",
              "      cursor: pointer;\n",
              "      display: none;\n",
              "      fill: #1967D2;\n",
              "      height: 32px;\n",
              "      padding: 0 0 0 0;\n",
              "      width: 32px;\n",
              "    }\n",
              "\n",
              "    .colab-df-convert:hover {\n",
              "      background-color: #E2EBFA;\n",
              "      box-shadow: 0px 1px 2px rgba(60, 64, 67, 0.3), 0px 1px 3px 1px rgba(60, 64, 67, 0.15);\n",
              "      fill: #174EA6;\n",
              "    }\n",
              "\n",
              "    [theme=dark] .colab-df-convert {\n",
              "      background-color: #3B4455;\n",
              "      fill: #D2E3FC;\n",
              "    }\n",
              "\n",
              "    [theme=dark] .colab-df-convert:hover {\n",
              "      background-color: #434B5C;\n",
              "      box-shadow: 0px 1px 3px 1px rgba(0, 0, 0, 0.15);\n",
              "      filter: drop-shadow(0px 1px 2px rgba(0, 0, 0, 0.3));\n",
              "      fill: #FFFFFF;\n",
              "    }\n",
              "  </style>\n",
              "\n",
              "      <script>\n",
              "        const buttonEl =\n",
              "          document.querySelector('#df-326dcf3e-8a33-4b8b-ae22-0d855666870f button.colab-df-convert');\n",
              "        buttonEl.style.display =\n",
              "          google.colab.kernel.accessAllowed ? 'block' : 'none';\n",
              "\n",
              "        async function convertToInteractive(key) {\n",
              "          const element = document.querySelector('#df-326dcf3e-8a33-4b8b-ae22-0d855666870f');\n",
              "          const dataTable =\n",
              "            await google.colab.kernel.invokeFunction('convertToInteractive',\n",
              "                                                     [key], {});\n",
              "          if (!dataTable) return;\n",
              "\n",
              "          const docLinkHtml = 'Like what you see? Visit the ' +\n",
              "            '<a target=\"_blank\" href=https://colab.research.google.com/notebooks/data_table.ipynb>data table notebook</a>'\n",
              "            + ' to learn more about interactive tables.';\n",
              "          element.innerHTML = '';\n",
              "          dataTable['output_type'] = 'display_data';\n",
              "          await google.colab.output.renderOutput(dataTable, element);\n",
              "          const docLink = document.createElement('div');\n",
              "          docLink.innerHTML = docLinkHtml;\n",
              "          element.appendChild(docLink);\n",
              "        }\n",
              "      </script>\n",
              "    </div>\n",
              "  </div>\n",
              "  "
            ]
          },
          "metadata": {},
          "execution_count": 60
        }
      ]
    },
    {
      "cell_type": "markdown",
      "metadata": {
        "id": "fUuhTgxTvWAL"
      },
      "source": [
        "# MEMORY BASED COLLABORATIVE FILTERING\n",
        "\n",
        "Memory-based algorithms approach the collaborative filtering problem by using the entire database.It tries to find users that are similar to the active user (i.e. the users we want to make predictions for), and uses their preferences to predict ratings for the active user."
      ]
    },
    {
      "cell_type": "code",
      "execution_count": 61,
      "metadata": {
        "id": "Ldaj40pJc5Lr"
      },
      "outputs": [],
      "source": [
        "#import pairwise_distances, cosine, corelation\n",
        "from sklearn.metrics.pairwise import pairwise_distances, cosine_similarity\n",
        "from scipy.spatial.distance import cosine, correlation "
      ]
    },
    {
      "cell_type": "code",
      "execution_count": 62,
      "metadata": {
        "id": "J8C5ykDCUbQe"
      },
      "outputs": [],
      "source": [
        "# create pivot table containing user_id as index, games as columns, ratings as values\n",
        "PT = steam_data.pivot_table(index=['User_ID'], columns=['games'], values='rating')"
      ]
    },
    {
      "cell_type": "code",
      "source": [
        "PT = PT.apply(lambda x :(x-np.mean(x))/((np.max(x))-np.min(x)), axis=1)"
      ],
      "metadata": {
        "id": "cTchOoR8Q3x0"
      },
      "execution_count": 63,
      "outputs": []
    },
    {
      "cell_type": "code",
      "source": [
        "#check shape of pivot table\n",
        "PT.shape"
      ],
      "metadata": {
        "colab": {
          "base_uri": "https://localhost:8080/"
        },
        "id": "Qx9WkoIsQ3ka",
        "outputId": "b5e29539-64ea-4dbc-ec64-02042b6c3ea5"
      },
      "execution_count": 65,
      "outputs": [
        {
          "output_type": "execute_result",
          "data": {
            "text/plain": [
              "(8315, 431)"
            ]
          },
          "metadata": {},
          "execution_count": 65
        }
      ]
    },
    {
      "cell_type": "code",
      "source": [
        "#check first five rows of pivot table\n",
        "\n",
        "PT.head()"
      ],
      "metadata": {
        "colab": {
          "base_uri": "https://localhost:8080/",
          "height": 417
        },
        "id": "zlHADdgeQ3hZ",
        "outputId": "a4a21326-a3f6-4869-a804-9ff716ef6859"
      },
      "execution_count": 66,
      "outputs": [
        {
          "output_type": "execute_result",
          "data": {
            "text/plain": [
              "games      7 Days to Die  APB Reloaded  ARK Survival Evolved  Ace of Spades  \\\n",
              "User_ID                                                                       \n",
              "100053304            NaN           NaN                   NaN            NaN   \n",
              "100057229            NaN           NaN                   NaN            NaN   \n",
              "100070732            NaN           NaN                   NaN            NaN   \n",
              "100096071            NaN           NaN                   NaN            NaN   \n",
              "100168166            NaN           NaN                   NaN            NaN   \n",
              "\n",
              "games      AdVenture Capitalist  Aftermath  Age of Chivalry  \\\n",
              "User_ID                                                       \n",
              "100053304                   NaN        NaN              NaN   \n",
              "100057229                   NaN        NaN              NaN   \n",
              "100070732                   NaN        NaN              NaN   \n",
              "100096071                   NaN        NaN              NaN   \n",
              "100168166                   NaN        NaN              NaN   \n",
              "\n",
              "games      Age of Empires II HD Edition  \\\n",
              "User_ID                                   \n",
              "100053304                           NaN   \n",
              "100057229                           NaN   \n",
              "100070732                           NaN   \n",
              "100096071                           NaN   \n",
              "100168166                           NaN   \n",
              "\n",
              "games      Age of Empires III Complete Collection  \\\n",
              "User_ID                                             \n",
              "100053304                                     NaN   \n",
              "100057229                                     NaN   \n",
              "100070732                                     NaN   \n",
              "100096071                                     NaN   \n",
              "100168166                                     NaN   \n",
              "\n",
              "games      Age of Mythology Extended Edition  ...  \\\n",
              "User_ID                                       ...   \n",
              "100053304                                NaN  ...   \n",
              "100057229                                NaN  ...   \n",
              "100070732                                NaN  ...   \n",
              "100096071                                NaN  ...   \n",
              "100168166                                NaN  ...   \n",
              "\n",
              "games      Warhammer 40,000 Dawn of War II - Chaos Rising  \\\n",
              "User_ID                                                     \n",
              "100053304                                             NaN   \n",
              "100057229                                             NaN   \n",
              "100070732                                             NaN   \n",
              "100096071                                             NaN   \n",
              "100168166                                             NaN   \n",
              "\n",
              "games      Warhammer 40,000 Space Marine  Wasteland 2  Watch_Dogs  \\\n",
              "User_ID                                                             \n",
              "100053304                            NaN          NaN         NaN   \n",
              "100057229                            NaN          NaN         NaN   \n",
              "100070732                            NaN          NaN         NaN   \n",
              "100096071                            NaN          NaN         NaN   \n",
              "100168166                            NaN          NaN         NaN   \n",
              "\n",
              "games      Wolfenstein The New Order  Worms Reloaded  Worms Revolution  \\\n",
              "User_ID                                                                  \n",
              "100053304                        NaN             NaN               NaN   \n",
              "100057229                        NaN             NaN               NaN   \n",
              "100070732                        NaN             NaN               NaN   \n",
              "100096071                        NaN             NaN               NaN   \n",
              "100168166                        NaN             NaN               NaN   \n",
              "\n",
              "games      XCOM Enemy Unknown  Zombie Panic Source  theHunter  \n",
              "User_ID                                                        \n",
              "100053304                 NaN                  NaN        NaN  \n",
              "100057229                 NaN                  NaN        NaN  \n",
              "100070732                 NaN                  NaN        NaN  \n",
              "100096071                 NaN                  NaN        NaN  \n",
              "100168166                 NaN                  NaN        NaN  \n",
              "\n",
              "[5 rows x 431 columns]"
            ],
            "text/html": [
              "\n",
              "  <div id=\"df-f93c7bad-743e-439b-b322-7fc9fd375b30\">\n",
              "    <div class=\"colab-df-container\">\n",
              "      <div>\n",
              "<style scoped>\n",
              "    .dataframe tbody tr th:only-of-type {\n",
              "        vertical-align: middle;\n",
              "    }\n",
              "\n",
              "    .dataframe tbody tr th {\n",
              "        vertical-align: top;\n",
              "    }\n",
              "\n",
              "    .dataframe thead th {\n",
              "        text-align: right;\n",
              "    }\n",
              "</style>\n",
              "<table border=\"1\" class=\"dataframe\">\n",
              "  <thead>\n",
              "    <tr style=\"text-align: right;\">\n",
              "      <th>games</th>\n",
              "      <th>7 Days to Die</th>\n",
              "      <th>APB Reloaded</th>\n",
              "      <th>ARK Survival Evolved</th>\n",
              "      <th>Ace of Spades</th>\n",
              "      <th>AdVenture Capitalist</th>\n",
              "      <th>Aftermath</th>\n",
              "      <th>Age of Chivalry</th>\n",
              "      <th>Age of Empires II HD Edition</th>\n",
              "      <th>Age of Empires III Complete Collection</th>\n",
              "      <th>Age of Mythology Extended Edition</th>\n",
              "      <th>...</th>\n",
              "      <th>Warhammer 40,000 Dawn of War II - Chaos Rising</th>\n",
              "      <th>Warhammer 40,000 Space Marine</th>\n",
              "      <th>Wasteland 2</th>\n",
              "      <th>Watch_Dogs</th>\n",
              "      <th>Wolfenstein The New Order</th>\n",
              "      <th>Worms Reloaded</th>\n",
              "      <th>Worms Revolution</th>\n",
              "      <th>XCOM Enemy Unknown</th>\n",
              "      <th>Zombie Panic Source</th>\n",
              "      <th>theHunter</th>\n",
              "    </tr>\n",
              "    <tr>\n",
              "      <th>User_ID</th>\n",
              "      <th></th>\n",
              "      <th></th>\n",
              "      <th></th>\n",
              "      <th></th>\n",
              "      <th></th>\n",
              "      <th></th>\n",
              "      <th></th>\n",
              "      <th></th>\n",
              "      <th></th>\n",
              "      <th></th>\n",
              "      <th></th>\n",
              "      <th></th>\n",
              "      <th></th>\n",
              "      <th></th>\n",
              "      <th></th>\n",
              "      <th></th>\n",
              "      <th></th>\n",
              "      <th></th>\n",
              "      <th></th>\n",
              "      <th></th>\n",
              "      <th></th>\n",
              "    </tr>\n",
              "  </thead>\n",
              "  <tbody>\n",
              "    <tr>\n",
              "      <th>100053304</th>\n",
              "      <td>NaN</td>\n",
              "      <td>NaN</td>\n",
              "      <td>NaN</td>\n",
              "      <td>NaN</td>\n",
              "      <td>NaN</td>\n",
              "      <td>NaN</td>\n",
              "      <td>NaN</td>\n",
              "      <td>NaN</td>\n",
              "      <td>NaN</td>\n",
              "      <td>NaN</td>\n",
              "      <td>...</td>\n",
              "      <td>NaN</td>\n",
              "      <td>NaN</td>\n",
              "      <td>NaN</td>\n",
              "      <td>NaN</td>\n",
              "      <td>NaN</td>\n",
              "      <td>NaN</td>\n",
              "      <td>NaN</td>\n",
              "      <td>NaN</td>\n",
              "      <td>NaN</td>\n",
              "      <td>NaN</td>\n",
              "    </tr>\n",
              "    <tr>\n",
              "      <th>100057229</th>\n",
              "      <td>NaN</td>\n",
              "      <td>NaN</td>\n",
              "      <td>NaN</td>\n",
              "      <td>NaN</td>\n",
              "      <td>NaN</td>\n",
              "      <td>NaN</td>\n",
              "      <td>NaN</td>\n",
              "      <td>NaN</td>\n",
              "      <td>NaN</td>\n",
              "      <td>NaN</td>\n",
              "      <td>...</td>\n",
              "      <td>NaN</td>\n",
              "      <td>NaN</td>\n",
              "      <td>NaN</td>\n",
              "      <td>NaN</td>\n",
              "      <td>NaN</td>\n",
              "      <td>NaN</td>\n",
              "      <td>NaN</td>\n",
              "      <td>NaN</td>\n",
              "      <td>NaN</td>\n",
              "      <td>NaN</td>\n",
              "    </tr>\n",
              "    <tr>\n",
              "      <th>100070732</th>\n",
              "      <td>NaN</td>\n",
              "      <td>NaN</td>\n",
              "      <td>NaN</td>\n",
              "      <td>NaN</td>\n",
              "      <td>NaN</td>\n",
              "      <td>NaN</td>\n",
              "      <td>NaN</td>\n",
              "      <td>NaN</td>\n",
              "      <td>NaN</td>\n",
              "      <td>NaN</td>\n",
              "      <td>...</td>\n",
              "      <td>NaN</td>\n",
              "      <td>NaN</td>\n",
              "      <td>NaN</td>\n",
              "      <td>NaN</td>\n",
              "      <td>NaN</td>\n",
              "      <td>NaN</td>\n",
              "      <td>NaN</td>\n",
              "      <td>NaN</td>\n",
              "      <td>NaN</td>\n",
              "      <td>NaN</td>\n",
              "    </tr>\n",
              "    <tr>\n",
              "      <th>100096071</th>\n",
              "      <td>NaN</td>\n",
              "      <td>NaN</td>\n",
              "      <td>NaN</td>\n",
              "      <td>NaN</td>\n",
              "      <td>NaN</td>\n",
              "      <td>NaN</td>\n",
              "      <td>NaN</td>\n",
              "      <td>NaN</td>\n",
              "      <td>NaN</td>\n",
              "      <td>NaN</td>\n",
              "      <td>...</td>\n",
              "      <td>NaN</td>\n",
              "      <td>NaN</td>\n",
              "      <td>NaN</td>\n",
              "      <td>NaN</td>\n",
              "      <td>NaN</td>\n",
              "      <td>NaN</td>\n",
              "      <td>NaN</td>\n",
              "      <td>NaN</td>\n",
              "      <td>NaN</td>\n",
              "      <td>NaN</td>\n",
              "    </tr>\n",
              "    <tr>\n",
              "      <th>100168166</th>\n",
              "      <td>NaN</td>\n",
              "      <td>NaN</td>\n",
              "      <td>NaN</td>\n",
              "      <td>NaN</td>\n",
              "      <td>NaN</td>\n",
              "      <td>NaN</td>\n",
              "      <td>NaN</td>\n",
              "      <td>NaN</td>\n",
              "      <td>NaN</td>\n",
              "      <td>NaN</td>\n",
              "      <td>...</td>\n",
              "      <td>NaN</td>\n",
              "      <td>NaN</td>\n",
              "      <td>NaN</td>\n",
              "      <td>NaN</td>\n",
              "      <td>NaN</td>\n",
              "      <td>NaN</td>\n",
              "      <td>NaN</td>\n",
              "      <td>NaN</td>\n",
              "      <td>NaN</td>\n",
              "      <td>NaN</td>\n",
              "    </tr>\n",
              "  </tbody>\n",
              "</table>\n",
              "<p>5 rows × 431 columns</p>\n",
              "</div>\n",
              "      <button class=\"colab-df-convert\" onclick=\"convertToInteractive('df-f93c7bad-743e-439b-b322-7fc9fd375b30')\"\n",
              "              title=\"Convert this dataframe to an interactive table.\"\n",
              "              style=\"display:none;\">\n",
              "        \n",
              "  <svg xmlns=\"http://www.w3.org/2000/svg\" height=\"24px\"viewBox=\"0 0 24 24\"\n",
              "       width=\"24px\">\n",
              "    <path d=\"M0 0h24v24H0V0z\" fill=\"none\"/>\n",
              "    <path d=\"M18.56 5.44l.94 2.06.94-2.06 2.06-.94-2.06-.94-.94-2.06-.94 2.06-2.06.94zm-11 1L8.5 8.5l.94-2.06 2.06-.94-2.06-.94L8.5 2.5l-.94 2.06-2.06.94zm10 10l.94 2.06.94-2.06 2.06-.94-2.06-.94-.94-2.06-.94 2.06-2.06.94z\"/><path d=\"M17.41 7.96l-1.37-1.37c-.4-.4-.92-.59-1.43-.59-.52 0-1.04.2-1.43.59L10.3 9.45l-7.72 7.72c-.78.78-.78 2.05 0 2.83L4 21.41c.39.39.9.59 1.41.59.51 0 1.02-.2 1.41-.59l7.78-7.78 2.81-2.81c.8-.78.8-2.07 0-2.86zM5.41 20L4 18.59l7.72-7.72 1.47 1.35L5.41 20z\"/>\n",
              "  </svg>\n",
              "      </button>\n",
              "      \n",
              "  <style>\n",
              "    .colab-df-container {\n",
              "      display:flex;\n",
              "      flex-wrap:wrap;\n",
              "      gap: 12px;\n",
              "    }\n",
              "\n",
              "    .colab-df-convert {\n",
              "      background-color: #E8F0FE;\n",
              "      border: none;\n",
              "      border-radius: 50%;\n",
              "      cursor: pointer;\n",
              "      display: none;\n",
              "      fill: #1967D2;\n",
              "      height: 32px;\n",
              "      padding: 0 0 0 0;\n",
              "      width: 32px;\n",
              "    }\n",
              "\n",
              "    .colab-df-convert:hover {\n",
              "      background-color: #E2EBFA;\n",
              "      box-shadow: 0px 1px 2px rgba(60, 64, 67, 0.3), 0px 1px 3px 1px rgba(60, 64, 67, 0.15);\n",
              "      fill: #174EA6;\n",
              "    }\n",
              "\n",
              "    [theme=dark] .colab-df-convert {\n",
              "      background-color: #3B4455;\n",
              "      fill: #D2E3FC;\n",
              "    }\n",
              "\n",
              "    [theme=dark] .colab-df-convert:hover {\n",
              "      background-color: #434B5C;\n",
              "      box-shadow: 0px 1px 3px 1px rgba(0, 0, 0, 0.15);\n",
              "      filter: drop-shadow(0px 1px 2px rgba(0, 0, 0, 0.3));\n",
              "      fill: #FFFFFF;\n",
              "    }\n",
              "  </style>\n",
              "\n",
              "      <script>\n",
              "        const buttonEl =\n",
              "          document.querySelector('#df-f93c7bad-743e-439b-b322-7fc9fd375b30 button.colab-df-convert');\n",
              "        buttonEl.style.display =\n",
              "          google.colab.kernel.accessAllowed ? 'block' : 'none';\n",
              "\n",
              "        async function convertToInteractive(key) {\n",
              "          const element = document.querySelector('#df-f93c7bad-743e-439b-b322-7fc9fd375b30');\n",
              "          const dataTable =\n",
              "            await google.colab.kernel.invokeFunction('convertToInteractive',\n",
              "                                                     [key], {});\n",
              "          if (!dataTable) return;\n",
              "\n",
              "          const docLinkHtml = 'Like what you see? Visit the ' +\n",
              "            '<a target=\"_blank\" href=https://colab.research.google.com/notebooks/data_table.ipynb>data table notebook</a>'\n",
              "            + ' to learn more about interactive tables.';\n",
              "          element.innerHTML = '';\n",
              "          dataTable['output_type'] = 'display_data';\n",
              "          await google.colab.output.renderOutput(dataTable, element);\n",
              "          const docLink = document.createElement('div');\n",
              "          docLink.innerHTML = docLinkHtml;\n",
              "          element.appendChild(docLink);\n",
              "        }\n",
              "      </script>\n",
              "    </div>\n",
              "  </div>\n",
              "  "
            ]
          },
          "metadata": {},
          "execution_count": 66
        }
      ]
    },
    {
      "cell_type": "code",
      "execution_count": 67,
      "metadata": {
        "id": "Ms7p71YdUbLU"
      },
      "outputs": [],
      "source": [
        "## Note: As we are subtracting the mean from each rating to standardize\n",
        "##all users with only one rating or who had rated everything the same will be dropped\n",
        "# Normalize the values in pivot table\n",
        "\n",
        "PT = PT.fillna(0)\n",
        "PT = PT.T\n",
        "\n",
        "# Drop all columns containing only zeros representing users who did not rate\n",
        "PT = PT.loc[:,(PT!=0).any(axis=0)]"
      ]
    },
    {
      "cell_type": "code",
      "source": [
        "PT.head()"
      ],
      "metadata": {
        "colab": {
          "base_uri": "https://localhost:8080/",
          "height": 435
        },
        "id": "F4ybj6RaSrtN",
        "outputId": "cf0c4407-4a4e-4f53-e882-2825927641c3"
      },
      "execution_count": 68,
      "outputs": [
        {
          "output_type": "execute_result",
          "data": {
            "text/plain": [
              "User_ID               100057229  100096071  100311267  100322840  100351493  \\\n",
              "games                                                                         \n",
              "7 Days to Die               0.0        0.0        0.0        0.0        0.0   \n",
              "APB Reloaded                0.0        0.0        0.0        0.0        0.0   \n",
              "ARK Survival Evolved        0.0        0.0        0.0        0.0        0.0   \n",
              "Ace of Spades               0.0        0.0        0.0        0.0        0.0   \n",
              "AdVenture Capitalist        0.0        0.0        0.0        0.0        0.0   \n",
              "\n",
              "User_ID               100359523  100431715  100444456  100519466  100630947  \\\n",
              "games                                                                         \n",
              "7 Days to Die               0.0        0.0        0.0       0.00        0.0   \n",
              "APB Reloaded                0.0        0.0        0.0       0.00        0.0   \n",
              "ARK Survival Evolved        0.0        0.0        0.0       0.43        0.0   \n",
              "Ace of Spades               0.0        0.0        0.0       0.00        0.0   \n",
              "AdVenture Capitalist        0.0        0.0        0.0       0.00        0.0   \n",
              "\n",
              "User_ID               ...  994489  9946133  99484728  99640715  99704390  \\\n",
              "games                 ...                                                  \n",
              "7 Days to Die         ...     0.0      0.0       0.0       0.0     0.000   \n",
              "APB Reloaded          ...     0.0      0.0       0.0       0.0    -0.475   \n",
              "ARK Survival Evolved  ...     0.0      0.0       0.0       0.0     0.000   \n",
              "Ace of Spades         ...     0.0      0.0       0.0       0.0     0.000   \n",
              "AdVenture Capitalist  ...     0.0      0.0       0.0       0.0     0.000   \n",
              "\n",
              "User_ID               99711581  99713453  99723205  99766416  99802512  \n",
              "games                                                                   \n",
              "7 Days to Die         0.000000       0.0       0.0       0.0       0.0  \n",
              "APB Reloaded         -0.166667       0.0       0.0       0.0       0.0  \n",
              "ARK Survival Evolved  0.000000       0.0       0.0       0.0       0.0  \n",
              "Ace of Spades         0.000000       0.0       0.0       0.0       0.0  \n",
              "AdVenture Capitalist  0.000000       0.0       0.0       0.0       0.0  \n",
              "\n",
              "[5 rows x 3059 columns]"
            ],
            "text/html": [
              "\n",
              "  <div id=\"df-c9d863d7-f27a-49fa-a01c-6755ceed87d9\">\n",
              "    <div class=\"colab-df-container\">\n",
              "      <div>\n",
              "<style scoped>\n",
              "    .dataframe tbody tr th:only-of-type {\n",
              "        vertical-align: middle;\n",
              "    }\n",
              "\n",
              "    .dataframe tbody tr th {\n",
              "        vertical-align: top;\n",
              "    }\n",
              "\n",
              "    .dataframe thead th {\n",
              "        text-align: right;\n",
              "    }\n",
              "</style>\n",
              "<table border=\"1\" class=\"dataframe\">\n",
              "  <thead>\n",
              "    <tr style=\"text-align: right;\">\n",
              "      <th>User_ID</th>\n",
              "      <th>100057229</th>\n",
              "      <th>100096071</th>\n",
              "      <th>100311267</th>\n",
              "      <th>100322840</th>\n",
              "      <th>100351493</th>\n",
              "      <th>100359523</th>\n",
              "      <th>100431715</th>\n",
              "      <th>100444456</th>\n",
              "      <th>100519466</th>\n",
              "      <th>100630947</th>\n",
              "      <th>...</th>\n",
              "      <th>994489</th>\n",
              "      <th>9946133</th>\n",
              "      <th>99484728</th>\n",
              "      <th>99640715</th>\n",
              "      <th>99704390</th>\n",
              "      <th>99711581</th>\n",
              "      <th>99713453</th>\n",
              "      <th>99723205</th>\n",
              "      <th>99766416</th>\n",
              "      <th>99802512</th>\n",
              "    </tr>\n",
              "    <tr>\n",
              "      <th>games</th>\n",
              "      <th></th>\n",
              "      <th></th>\n",
              "      <th></th>\n",
              "      <th></th>\n",
              "      <th></th>\n",
              "      <th></th>\n",
              "      <th></th>\n",
              "      <th></th>\n",
              "      <th></th>\n",
              "      <th></th>\n",
              "      <th></th>\n",
              "      <th></th>\n",
              "      <th></th>\n",
              "      <th></th>\n",
              "      <th></th>\n",
              "      <th></th>\n",
              "      <th></th>\n",
              "      <th></th>\n",
              "      <th></th>\n",
              "      <th></th>\n",
              "      <th></th>\n",
              "    </tr>\n",
              "  </thead>\n",
              "  <tbody>\n",
              "    <tr>\n",
              "      <th>7 Days to Die</th>\n",
              "      <td>0.0</td>\n",
              "      <td>0.0</td>\n",
              "      <td>0.0</td>\n",
              "      <td>0.0</td>\n",
              "      <td>0.0</td>\n",
              "      <td>0.0</td>\n",
              "      <td>0.0</td>\n",
              "      <td>0.0</td>\n",
              "      <td>0.00</td>\n",
              "      <td>0.0</td>\n",
              "      <td>...</td>\n",
              "      <td>0.0</td>\n",
              "      <td>0.0</td>\n",
              "      <td>0.0</td>\n",
              "      <td>0.0</td>\n",
              "      <td>0.000</td>\n",
              "      <td>0.000000</td>\n",
              "      <td>0.0</td>\n",
              "      <td>0.0</td>\n",
              "      <td>0.0</td>\n",
              "      <td>0.0</td>\n",
              "    </tr>\n",
              "    <tr>\n",
              "      <th>APB Reloaded</th>\n",
              "      <td>0.0</td>\n",
              "      <td>0.0</td>\n",
              "      <td>0.0</td>\n",
              "      <td>0.0</td>\n",
              "      <td>0.0</td>\n",
              "      <td>0.0</td>\n",
              "      <td>0.0</td>\n",
              "      <td>0.0</td>\n",
              "      <td>0.00</td>\n",
              "      <td>0.0</td>\n",
              "      <td>...</td>\n",
              "      <td>0.0</td>\n",
              "      <td>0.0</td>\n",
              "      <td>0.0</td>\n",
              "      <td>0.0</td>\n",
              "      <td>-0.475</td>\n",
              "      <td>-0.166667</td>\n",
              "      <td>0.0</td>\n",
              "      <td>0.0</td>\n",
              "      <td>0.0</td>\n",
              "      <td>0.0</td>\n",
              "    </tr>\n",
              "    <tr>\n",
              "      <th>ARK Survival Evolved</th>\n",
              "      <td>0.0</td>\n",
              "      <td>0.0</td>\n",
              "      <td>0.0</td>\n",
              "      <td>0.0</td>\n",
              "      <td>0.0</td>\n",
              "      <td>0.0</td>\n",
              "      <td>0.0</td>\n",
              "      <td>0.0</td>\n",
              "      <td>0.43</td>\n",
              "      <td>0.0</td>\n",
              "      <td>...</td>\n",
              "      <td>0.0</td>\n",
              "      <td>0.0</td>\n",
              "      <td>0.0</td>\n",
              "      <td>0.0</td>\n",
              "      <td>0.000</td>\n",
              "      <td>0.000000</td>\n",
              "      <td>0.0</td>\n",
              "      <td>0.0</td>\n",
              "      <td>0.0</td>\n",
              "      <td>0.0</td>\n",
              "    </tr>\n",
              "    <tr>\n",
              "      <th>Ace of Spades</th>\n",
              "      <td>0.0</td>\n",
              "      <td>0.0</td>\n",
              "      <td>0.0</td>\n",
              "      <td>0.0</td>\n",
              "      <td>0.0</td>\n",
              "      <td>0.0</td>\n",
              "      <td>0.0</td>\n",
              "      <td>0.0</td>\n",
              "      <td>0.00</td>\n",
              "      <td>0.0</td>\n",
              "      <td>...</td>\n",
              "      <td>0.0</td>\n",
              "      <td>0.0</td>\n",
              "      <td>0.0</td>\n",
              "      <td>0.0</td>\n",
              "      <td>0.000</td>\n",
              "      <td>0.000000</td>\n",
              "      <td>0.0</td>\n",
              "      <td>0.0</td>\n",
              "      <td>0.0</td>\n",
              "      <td>0.0</td>\n",
              "    </tr>\n",
              "    <tr>\n",
              "      <th>AdVenture Capitalist</th>\n",
              "      <td>0.0</td>\n",
              "      <td>0.0</td>\n",
              "      <td>0.0</td>\n",
              "      <td>0.0</td>\n",
              "      <td>0.0</td>\n",
              "      <td>0.0</td>\n",
              "      <td>0.0</td>\n",
              "      <td>0.0</td>\n",
              "      <td>0.00</td>\n",
              "      <td>0.0</td>\n",
              "      <td>...</td>\n",
              "      <td>0.0</td>\n",
              "      <td>0.0</td>\n",
              "      <td>0.0</td>\n",
              "      <td>0.0</td>\n",
              "      <td>0.000</td>\n",
              "      <td>0.000000</td>\n",
              "      <td>0.0</td>\n",
              "      <td>0.0</td>\n",
              "      <td>0.0</td>\n",
              "      <td>0.0</td>\n",
              "    </tr>\n",
              "  </tbody>\n",
              "</table>\n",
              "<p>5 rows × 3059 columns</p>\n",
              "</div>\n",
              "      <button class=\"colab-df-convert\" onclick=\"convertToInteractive('df-c9d863d7-f27a-49fa-a01c-6755ceed87d9')\"\n",
              "              title=\"Convert this dataframe to an interactive table.\"\n",
              "              style=\"display:none;\">\n",
              "        \n",
              "  <svg xmlns=\"http://www.w3.org/2000/svg\" height=\"24px\"viewBox=\"0 0 24 24\"\n",
              "       width=\"24px\">\n",
              "    <path d=\"M0 0h24v24H0V0z\" fill=\"none\"/>\n",
              "    <path d=\"M18.56 5.44l.94 2.06.94-2.06 2.06-.94-2.06-.94-.94-2.06-.94 2.06-2.06.94zm-11 1L8.5 8.5l.94-2.06 2.06-.94-2.06-.94L8.5 2.5l-.94 2.06-2.06.94zm10 10l.94 2.06.94-2.06 2.06-.94-2.06-.94-.94-2.06-.94 2.06-2.06.94z\"/><path d=\"M17.41 7.96l-1.37-1.37c-.4-.4-.92-.59-1.43-.59-.52 0-1.04.2-1.43.59L10.3 9.45l-7.72 7.72c-.78.78-.78 2.05 0 2.83L4 21.41c.39.39.9.59 1.41.59.51 0 1.02-.2 1.41-.59l7.78-7.78 2.81-2.81c.8-.78.8-2.07 0-2.86zM5.41 20L4 18.59l7.72-7.72 1.47 1.35L5.41 20z\"/>\n",
              "  </svg>\n",
              "      </button>\n",
              "      \n",
              "  <style>\n",
              "    .colab-df-container {\n",
              "      display:flex;\n",
              "      flex-wrap:wrap;\n",
              "      gap: 12px;\n",
              "    }\n",
              "\n",
              "    .colab-df-convert {\n",
              "      background-color: #E8F0FE;\n",
              "      border: none;\n",
              "      border-radius: 50%;\n",
              "      cursor: pointer;\n",
              "      display: none;\n",
              "      fill: #1967D2;\n",
              "      height: 32px;\n",
              "      padding: 0 0 0 0;\n",
              "      width: 32px;\n",
              "    }\n",
              "\n",
              "    .colab-df-convert:hover {\n",
              "      background-color: #E2EBFA;\n",
              "      box-shadow: 0px 1px 2px rgba(60, 64, 67, 0.3), 0px 1px 3px 1px rgba(60, 64, 67, 0.15);\n",
              "      fill: #174EA6;\n",
              "    }\n",
              "\n",
              "    [theme=dark] .colab-df-convert {\n",
              "      background-color: #3B4455;\n",
              "      fill: #D2E3FC;\n",
              "    }\n",
              "\n",
              "    [theme=dark] .colab-df-convert:hover {\n",
              "      background-color: #434B5C;\n",
              "      box-shadow: 0px 1px 3px 1px rgba(0, 0, 0, 0.15);\n",
              "      filter: drop-shadow(0px 1px 2px rgba(0, 0, 0, 0.3));\n",
              "      fill: #FFFFFF;\n",
              "    }\n",
              "  </style>\n",
              "\n",
              "      <script>\n",
              "        const buttonEl =\n",
              "          document.querySelector('#df-c9d863d7-f27a-49fa-a01c-6755ceed87d9 button.colab-df-convert');\n",
              "        buttonEl.style.display =\n",
              "          google.colab.kernel.accessAllowed ? 'block' : 'none';\n",
              "\n",
              "        async function convertToInteractive(key) {\n",
              "          const element = document.querySelector('#df-c9d863d7-f27a-49fa-a01c-6755ceed87d9');\n",
              "          const dataTable =\n",
              "            await google.colab.kernel.invokeFunction('convertToInteractive',\n",
              "                                                     [key], {});\n",
              "          if (!dataTable) return;\n",
              "\n",
              "          const docLinkHtml = 'Like what you see? Visit the ' +\n",
              "            '<a target=\"_blank\" href=https://colab.research.google.com/notebooks/data_table.ipynb>data table notebook</a>'\n",
              "            + ' to learn more about interactive tables.';\n",
              "          element.innerHTML = '';\n",
              "          dataTable['output_type'] = 'display_data';\n",
              "          await google.colab.output.renderOutput(dataTable, element);\n",
              "          const docLink = document.createElement('div');\n",
              "          docLink.innerHTML = docLinkHtml;\n",
              "          element.appendChild(docLink);\n",
              "        }\n",
              "      </script>\n",
              "    </div>\n",
              "  </div>\n",
              "  "
            ]
          },
          "metadata": {},
          "execution_count": 68
        }
      ]
    },
    {
      "cell_type": "code",
      "execution_count": 69,
      "metadata": {
        "id": "inXGLPRdVJ5-"
      },
      "outputs": [],
      "source": [
        "# import scipy, operator\n",
        "import scipy as sp\n",
        "import operator"
      ]
    },
    {
      "cell_type": "code",
      "execution_count": 72,
      "metadata": {
        "id": "xpsBIdLbUbJn"
      },
      "outputs": [],
      "source": [
        "# convert the data into sparse matrix format to be read by the following functions\n",
        "\n",
        "PT_spare = sp.sparse.csr_matrix(PT.values)"
      ]
    },
    {
      "cell_type": "code",
      "execution_count": 73,
      "metadata": {
        "id": "161las8mUbGe"
      },
      "outputs": [],
      "source": [
        "# create matrices to show the computed cosine similarity values between each user/user array pair and item/item array pair.\n",
        "item_simi = cosine_similarity(PT_spare)\n",
        "user_simi = cosine_similarity(PT_spare.T)\n"
      ]
    },
    {
      "cell_type": "code",
      "execution_count": 74,
      "metadata": {
        "id": "JWrYUdrCUbEu"
      },
      "outputs": [],
      "source": [
        "# Inserting the similarity matricies into dataframe objects\n",
        "\n",
        "#item similarity dataframe\n",
        "df_item = pd.DataFrame(item_simi, index=PT.index, columns=PT.index)\n",
        "#user similarity dataframe\n",
        "df_user = pd.DataFrame(user_simi, index=PT.columns, columns=PT.columns)"
      ]
    },
    {
      "cell_type": "code",
      "source": [
        "df_item.head()"
      ],
      "metadata": {
        "colab": {
          "base_uri": "https://localhost:8080/",
          "height": 522
        },
        "id": "GLQ6stbvWFFw",
        "outputId": "98407a21-fe3b-4f87-e365-df9e2d462601"
      },
      "execution_count": 75,
      "outputs": [
        {
          "output_type": "execute_result",
          "data": {
            "text/plain": [
              "games                 7 Days to Die  APB Reloaded  ARK Survival Evolved  \\\n",
              "games                                                                     \n",
              "7 Days to Die              1.000000      0.011889              0.023910   \n",
              "APB Reloaded               0.011889      1.000000             -0.046199   \n",
              "ARK Survival Evolved       0.023910     -0.046199              1.000000   \n",
              "Ace of Spades              0.003702     -0.012738             -0.006097   \n",
              "AdVenture Capitalist      -0.006406     -0.030157             -0.006445   \n",
              "\n",
              "games                 Ace of Spades  AdVenture Capitalist  Aftermath  \\\n",
              "games                                                                  \n",
              "7 Days to Die              0.003702             -0.006406  -0.036463   \n",
              "APB Reloaded              -0.012738             -0.030157  -0.005157   \n",
              "ARK Survival Evolved      -0.006097             -0.006445   0.000000   \n",
              "Ace of Spades              1.000000             -0.003154   0.000000   \n",
              "AdVenture Capitalist      -0.003154              1.000000  -0.043081   \n",
              "\n",
              "games                 Age of Chivalry  Age of Empires II HD Edition  \\\n",
              "games                                                                 \n",
              "7 Days to Die                0.047295                      0.049644   \n",
              "APB Reloaded                -0.000540                     -0.013881   \n",
              "ARK Survival Evolved         0.023592                      0.008420   \n",
              "Ace of Spades               -0.034444                     -0.006776   \n",
              "AdVenture Capitalist         0.035806                     -0.029016   \n",
              "\n",
              "games                 Age of Empires III Complete Collection  \\\n",
              "games                                                          \n",
              "7 Days to Die                                      -0.003137   \n",
              "APB Reloaded                                       -0.008468   \n",
              "ARK Survival Evolved                               -0.020514   \n",
              "Ace of Spades                                       0.000000   \n",
              "AdVenture Capitalist                               -0.002733   \n",
              "\n",
              "games                 Age of Mythology Extended Edition  ...  \\\n",
              "games                                                    ...   \n",
              "7 Days to Die                                  0.000000  ...   \n",
              "APB Reloaded                                   0.004806  ...   \n",
              "ARK Survival Evolved                          -0.009609  ...   \n",
              "Ace of Spades                                  0.000000  ...   \n",
              "AdVenture Capitalist                           0.000000  ...   \n",
              "\n",
              "games                 Warhammer 40,000 Dawn of War II - Chaos Rising  \\\n",
              "games                                                                  \n",
              "7 Days to Die                                              -0.038894   \n",
              "APB Reloaded                                                0.000280   \n",
              "ARK Survival Evolved                                       -0.031033   \n",
              "Ace of Spades                                               0.000858   \n",
              "AdVenture Capitalist                                        0.019090   \n",
              "\n",
              "games                 Warhammer 40,000 Space Marine  Wasteland 2  Watch_Dogs  \\\n",
              "games                                                                          \n",
              "7 Days to Die                              0.017805    -0.027081    0.011157   \n",
              "APB Reloaded                               0.027197     0.000000    0.000000   \n",
              "ARK Survival Evolved                       0.000214    -0.014996    0.022721   \n",
              "Ace of Spades                             -0.022283     0.000000    0.000000   \n",
              "AdVenture Capitalist                       0.008819     0.000000    0.000000   \n",
              "\n",
              "games                 Wolfenstein The New Order  Worms Reloaded  \\\n",
              "games                                                             \n",
              "7 Days to Die                          0.028949        0.049210   \n",
              "APB Reloaded                           0.010149       -0.038028   \n",
              "ARK Survival Evolved                   0.000000       -0.023283   \n",
              "Ace of Spades                          0.000000        0.050384   \n",
              "AdVenture Capitalist                  -0.003790        0.000000   \n",
              "\n",
              "games                 Worms Revolution  XCOM Enemy Unknown  \\\n",
              "games                                                        \n",
              "7 Days to Die                -0.028614            0.063191   \n",
              "APB Reloaded                 -0.007166           -0.008280   \n",
              "ARK Survival Evolved          0.000231            0.001994   \n",
              "Ace of Spades                 0.053498            0.009763   \n",
              "AdVenture Capitalist          0.014821           -0.014461   \n",
              "\n",
              "games                 Zombie Panic Source  theHunter  \n",
              "games                                                 \n",
              "7 Days to Die                    0.061200  -0.034545  \n",
              "APB Reloaded                     0.024256  -0.051036  \n",
              "ARK Survival Evolved             0.028022  -0.015766  \n",
              "Ace of Spades                   -0.022023  -0.029286  \n",
              "AdVenture Capitalist             0.000000   0.086266  \n",
              "\n",
              "[5 rows x 431 columns]"
            ],
            "text/html": [
              "\n",
              "  <div id=\"df-bae94f48-95a6-44fd-be3a-d13ff24df29a\">\n",
              "    <div class=\"colab-df-container\">\n",
              "      <div>\n",
              "<style scoped>\n",
              "    .dataframe tbody tr th:only-of-type {\n",
              "        vertical-align: middle;\n",
              "    }\n",
              "\n",
              "    .dataframe tbody tr th {\n",
              "        vertical-align: top;\n",
              "    }\n",
              "\n",
              "    .dataframe thead th {\n",
              "        text-align: right;\n",
              "    }\n",
              "</style>\n",
              "<table border=\"1\" class=\"dataframe\">\n",
              "  <thead>\n",
              "    <tr style=\"text-align: right;\">\n",
              "      <th>games</th>\n",
              "      <th>7 Days to Die</th>\n",
              "      <th>APB Reloaded</th>\n",
              "      <th>ARK Survival Evolved</th>\n",
              "      <th>Ace of Spades</th>\n",
              "      <th>AdVenture Capitalist</th>\n",
              "      <th>Aftermath</th>\n",
              "      <th>Age of Chivalry</th>\n",
              "      <th>Age of Empires II HD Edition</th>\n",
              "      <th>Age of Empires III Complete Collection</th>\n",
              "      <th>Age of Mythology Extended Edition</th>\n",
              "      <th>...</th>\n",
              "      <th>Warhammer 40,000 Dawn of War II - Chaos Rising</th>\n",
              "      <th>Warhammer 40,000 Space Marine</th>\n",
              "      <th>Wasteland 2</th>\n",
              "      <th>Watch_Dogs</th>\n",
              "      <th>Wolfenstein The New Order</th>\n",
              "      <th>Worms Reloaded</th>\n",
              "      <th>Worms Revolution</th>\n",
              "      <th>XCOM Enemy Unknown</th>\n",
              "      <th>Zombie Panic Source</th>\n",
              "      <th>theHunter</th>\n",
              "    </tr>\n",
              "    <tr>\n",
              "      <th>games</th>\n",
              "      <th></th>\n",
              "      <th></th>\n",
              "      <th></th>\n",
              "      <th></th>\n",
              "      <th></th>\n",
              "      <th></th>\n",
              "      <th></th>\n",
              "      <th></th>\n",
              "      <th></th>\n",
              "      <th></th>\n",
              "      <th></th>\n",
              "      <th></th>\n",
              "      <th></th>\n",
              "      <th></th>\n",
              "      <th></th>\n",
              "      <th></th>\n",
              "      <th></th>\n",
              "      <th></th>\n",
              "      <th></th>\n",
              "      <th></th>\n",
              "      <th></th>\n",
              "    </tr>\n",
              "  </thead>\n",
              "  <tbody>\n",
              "    <tr>\n",
              "      <th>7 Days to Die</th>\n",
              "      <td>1.000000</td>\n",
              "      <td>0.011889</td>\n",
              "      <td>0.023910</td>\n",
              "      <td>0.003702</td>\n",
              "      <td>-0.006406</td>\n",
              "      <td>-0.036463</td>\n",
              "      <td>0.047295</td>\n",
              "      <td>0.049644</td>\n",
              "      <td>-0.003137</td>\n",
              "      <td>0.000000</td>\n",
              "      <td>...</td>\n",
              "      <td>-0.038894</td>\n",
              "      <td>0.017805</td>\n",
              "      <td>-0.027081</td>\n",
              "      <td>0.011157</td>\n",
              "      <td>0.028949</td>\n",
              "      <td>0.049210</td>\n",
              "      <td>-0.028614</td>\n",
              "      <td>0.063191</td>\n",
              "      <td>0.061200</td>\n",
              "      <td>-0.034545</td>\n",
              "    </tr>\n",
              "    <tr>\n",
              "      <th>APB Reloaded</th>\n",
              "      <td>0.011889</td>\n",
              "      <td>1.000000</td>\n",
              "      <td>-0.046199</td>\n",
              "      <td>-0.012738</td>\n",
              "      <td>-0.030157</td>\n",
              "      <td>-0.005157</td>\n",
              "      <td>-0.000540</td>\n",
              "      <td>-0.013881</td>\n",
              "      <td>-0.008468</td>\n",
              "      <td>0.004806</td>\n",
              "      <td>...</td>\n",
              "      <td>0.000280</td>\n",
              "      <td>0.027197</td>\n",
              "      <td>0.000000</td>\n",
              "      <td>0.000000</td>\n",
              "      <td>0.010149</td>\n",
              "      <td>-0.038028</td>\n",
              "      <td>-0.007166</td>\n",
              "      <td>-0.008280</td>\n",
              "      <td>0.024256</td>\n",
              "      <td>-0.051036</td>\n",
              "    </tr>\n",
              "    <tr>\n",
              "      <th>ARK Survival Evolved</th>\n",
              "      <td>0.023910</td>\n",
              "      <td>-0.046199</td>\n",
              "      <td>1.000000</td>\n",
              "      <td>-0.006097</td>\n",
              "      <td>-0.006445</td>\n",
              "      <td>0.000000</td>\n",
              "      <td>0.023592</td>\n",
              "      <td>0.008420</td>\n",
              "      <td>-0.020514</td>\n",
              "      <td>-0.009609</td>\n",
              "      <td>...</td>\n",
              "      <td>-0.031033</td>\n",
              "      <td>0.000214</td>\n",
              "      <td>-0.014996</td>\n",
              "      <td>0.022721</td>\n",
              "      <td>0.000000</td>\n",
              "      <td>-0.023283</td>\n",
              "      <td>0.000231</td>\n",
              "      <td>0.001994</td>\n",
              "      <td>0.028022</td>\n",
              "      <td>-0.015766</td>\n",
              "    </tr>\n",
              "    <tr>\n",
              "      <th>Ace of Spades</th>\n",
              "      <td>0.003702</td>\n",
              "      <td>-0.012738</td>\n",
              "      <td>-0.006097</td>\n",
              "      <td>1.000000</td>\n",
              "      <td>-0.003154</td>\n",
              "      <td>0.000000</td>\n",
              "      <td>-0.034444</td>\n",
              "      <td>-0.006776</td>\n",
              "      <td>0.000000</td>\n",
              "      <td>0.000000</td>\n",
              "      <td>...</td>\n",
              "      <td>0.000858</td>\n",
              "      <td>-0.022283</td>\n",
              "      <td>0.000000</td>\n",
              "      <td>0.000000</td>\n",
              "      <td>0.000000</td>\n",
              "      <td>0.050384</td>\n",
              "      <td>0.053498</td>\n",
              "      <td>0.009763</td>\n",
              "      <td>-0.022023</td>\n",
              "      <td>-0.029286</td>\n",
              "    </tr>\n",
              "    <tr>\n",
              "      <th>AdVenture Capitalist</th>\n",
              "      <td>-0.006406</td>\n",
              "      <td>-0.030157</td>\n",
              "      <td>-0.006445</td>\n",
              "      <td>-0.003154</td>\n",
              "      <td>1.000000</td>\n",
              "      <td>-0.043081</td>\n",
              "      <td>0.035806</td>\n",
              "      <td>-0.029016</td>\n",
              "      <td>-0.002733</td>\n",
              "      <td>0.000000</td>\n",
              "      <td>...</td>\n",
              "      <td>0.019090</td>\n",
              "      <td>0.008819</td>\n",
              "      <td>0.000000</td>\n",
              "      <td>0.000000</td>\n",
              "      <td>-0.003790</td>\n",
              "      <td>0.000000</td>\n",
              "      <td>0.014821</td>\n",
              "      <td>-0.014461</td>\n",
              "      <td>0.000000</td>\n",
              "      <td>0.086266</td>\n",
              "    </tr>\n",
              "  </tbody>\n",
              "</table>\n",
              "<p>5 rows × 431 columns</p>\n",
              "</div>\n",
              "      <button class=\"colab-df-convert\" onclick=\"convertToInteractive('df-bae94f48-95a6-44fd-be3a-d13ff24df29a')\"\n",
              "              title=\"Convert this dataframe to an interactive table.\"\n",
              "              style=\"display:none;\">\n",
              "        \n",
              "  <svg xmlns=\"http://www.w3.org/2000/svg\" height=\"24px\"viewBox=\"0 0 24 24\"\n",
              "       width=\"24px\">\n",
              "    <path d=\"M0 0h24v24H0V0z\" fill=\"none\"/>\n",
              "    <path d=\"M18.56 5.44l.94 2.06.94-2.06 2.06-.94-2.06-.94-.94-2.06-.94 2.06-2.06.94zm-11 1L8.5 8.5l.94-2.06 2.06-.94-2.06-.94L8.5 2.5l-.94 2.06-2.06.94zm10 10l.94 2.06.94-2.06 2.06-.94-2.06-.94-.94-2.06-.94 2.06-2.06.94z\"/><path d=\"M17.41 7.96l-1.37-1.37c-.4-.4-.92-.59-1.43-.59-.52 0-1.04.2-1.43.59L10.3 9.45l-7.72 7.72c-.78.78-.78 2.05 0 2.83L4 21.41c.39.39.9.59 1.41.59.51 0 1.02-.2 1.41-.59l7.78-7.78 2.81-2.81c.8-.78.8-2.07 0-2.86zM5.41 20L4 18.59l7.72-7.72 1.47 1.35L5.41 20z\"/>\n",
              "  </svg>\n",
              "      </button>\n",
              "      \n",
              "  <style>\n",
              "    .colab-df-container {\n",
              "      display:flex;\n",
              "      flex-wrap:wrap;\n",
              "      gap: 12px;\n",
              "    }\n",
              "\n",
              "    .colab-df-convert {\n",
              "      background-color: #E8F0FE;\n",
              "      border: none;\n",
              "      border-radius: 50%;\n",
              "      cursor: pointer;\n",
              "      display: none;\n",
              "      fill: #1967D2;\n",
              "      height: 32px;\n",
              "      padding: 0 0 0 0;\n",
              "      width: 32px;\n",
              "    }\n",
              "\n",
              "    .colab-df-convert:hover {\n",
              "      background-color: #E2EBFA;\n",
              "      box-shadow: 0px 1px 2px rgba(60, 64, 67, 0.3), 0px 1px 3px 1px rgba(60, 64, 67, 0.15);\n",
              "      fill: #174EA6;\n",
              "    }\n",
              "\n",
              "    [theme=dark] .colab-df-convert {\n",
              "      background-color: #3B4455;\n",
              "      fill: #D2E3FC;\n",
              "    }\n",
              "\n",
              "    [theme=dark] .colab-df-convert:hover {\n",
              "      background-color: #434B5C;\n",
              "      box-shadow: 0px 1px 3px 1px rgba(0, 0, 0, 0.15);\n",
              "      filter: drop-shadow(0px 1px 2px rgba(0, 0, 0, 0.3));\n",
              "      fill: #FFFFFF;\n",
              "    }\n",
              "  </style>\n",
              "\n",
              "      <script>\n",
              "        const buttonEl =\n",
              "          document.querySelector('#df-bae94f48-95a6-44fd-be3a-d13ff24df29a button.colab-df-convert');\n",
              "        buttonEl.style.display =\n",
              "          google.colab.kernel.accessAllowed ? 'block' : 'none';\n",
              "\n",
              "        async function convertToInteractive(key) {\n",
              "          const element = document.querySelector('#df-bae94f48-95a6-44fd-be3a-d13ff24df29a');\n",
              "          const dataTable =\n",
              "            await google.colab.kernel.invokeFunction('convertToInteractive',\n",
              "                                                     [key], {});\n",
              "          if (!dataTable) return;\n",
              "\n",
              "          const docLinkHtml = 'Like what you see? Visit the ' +\n",
              "            '<a target=\"_blank\" href=https://colab.research.google.com/notebooks/data_table.ipynb>data table notebook</a>'\n",
              "            + ' to learn more about interactive tables.';\n",
              "          element.innerHTML = '';\n",
              "          dataTable['output_type'] = 'display_data';\n",
              "          await google.colab.output.renderOutput(dataTable, element);\n",
              "          const docLink = document.createElement('div');\n",
              "          docLink.innerHTML = docLinkHtml;\n",
              "          element.appendChild(docLink);\n",
              "        }\n",
              "      </script>\n",
              "    </div>\n",
              "  </div>\n",
              "  "
            ]
          },
          "metadata": {},
          "execution_count": 75
        }
      ]
    },
    {
      "cell_type": "code",
      "source": [
        "df_user.head()"
      ],
      "metadata": {
        "colab": {
          "base_uri": "https://localhost:8080/",
          "height": 331
        },
        "id": "wdDtlaEHWFCp",
        "outputId": "3f7c1345-b50a-45d4-bd4c-ac7d0465603c"
      },
      "execution_count": 77,
      "outputs": [
        {
          "output_type": "execute_result",
          "data": {
            "text/plain": [
              "User_ID    100057229  100096071  100311267  100322840  100351493  100359523  \\\n",
              "User_ID                                                                       \n",
              "100057229   1.000000  -0.102897   0.000000        0.0   0.000000        0.0   \n",
              "100096071  -0.102897   1.000000   0.049862        0.0   0.000000        0.0   \n",
              "100311267   0.000000   0.049862   1.000000        0.0  -0.004669        0.0   \n",
              "100322840   0.000000   0.000000   0.000000        1.0   0.000000        0.0   \n",
              "100351493   0.000000   0.000000  -0.004669        0.0   1.000000        0.0   \n",
              "\n",
              "User_ID    100431715  100444456  100519466  100630947  ...    994489  \\\n",
              "User_ID                                                ...             \n",
              "100057229   0.000000   0.000000   0.112023   0.000000  ...  0.000000   \n",
              "100096071   0.067894   0.000000  -0.154673  -0.186033  ...  0.303790   \n",
              "100311267   0.000000  -0.030655   0.178706   0.000000  ... -0.054711   \n",
              "100322840   0.000000   0.000000   0.000000   0.000000  ...  0.000000   \n",
              "100351493   0.172433   0.000000   0.000000   0.000000  ...  0.000000   \n",
              "\n",
              "User_ID     9946133  99484728  99640715  99704390  99711581  99713453  \\\n",
              "User_ID                                                                 \n",
              "100057229  0.000000  0.000000       0.0  0.000000 -0.074536  0.000000   \n",
              "100096071  0.036035  0.000000       0.0 -0.150648 -0.046017  0.000000   \n",
              "100311267  0.280644  0.032827       0.0 -0.035141  0.645942  0.000000   \n",
              "100322840  0.000000  0.000000       0.0  0.259037  0.000000  0.204124   \n",
              "100351493  0.000000  0.000000       0.0  0.000000  0.000000  0.000000   \n",
              "\n",
              "User_ID    99723205  99766416  99802512  \n",
              "User_ID                                  \n",
              "100057229  0.052849  0.000000       0.0  \n",
              "100096071  0.013983  0.039199       0.0  \n",
              "100311267 -0.128874  0.000000       0.0  \n",
              "100322840  0.000000  0.000000       0.0  \n",
              "100351493  0.000000  0.000000       0.0  \n",
              "\n",
              "[5 rows x 3059 columns]"
            ],
            "text/html": [
              "\n",
              "  <div id=\"df-4ecd46e6-2897-4838-913a-f6b7242e44c5\">\n",
              "    <div class=\"colab-df-container\">\n",
              "      <div>\n",
              "<style scoped>\n",
              "    .dataframe tbody tr th:only-of-type {\n",
              "        vertical-align: middle;\n",
              "    }\n",
              "\n",
              "    .dataframe tbody tr th {\n",
              "        vertical-align: top;\n",
              "    }\n",
              "\n",
              "    .dataframe thead th {\n",
              "        text-align: right;\n",
              "    }\n",
              "</style>\n",
              "<table border=\"1\" class=\"dataframe\">\n",
              "  <thead>\n",
              "    <tr style=\"text-align: right;\">\n",
              "      <th>User_ID</th>\n",
              "      <th>100057229</th>\n",
              "      <th>100096071</th>\n",
              "      <th>100311267</th>\n",
              "      <th>100322840</th>\n",
              "      <th>100351493</th>\n",
              "      <th>100359523</th>\n",
              "      <th>100431715</th>\n",
              "      <th>100444456</th>\n",
              "      <th>100519466</th>\n",
              "      <th>100630947</th>\n",
              "      <th>...</th>\n",
              "      <th>994489</th>\n",
              "      <th>9946133</th>\n",
              "      <th>99484728</th>\n",
              "      <th>99640715</th>\n",
              "      <th>99704390</th>\n",
              "      <th>99711581</th>\n",
              "      <th>99713453</th>\n",
              "      <th>99723205</th>\n",
              "      <th>99766416</th>\n",
              "      <th>99802512</th>\n",
              "    </tr>\n",
              "    <tr>\n",
              "      <th>User_ID</th>\n",
              "      <th></th>\n",
              "      <th></th>\n",
              "      <th></th>\n",
              "      <th></th>\n",
              "      <th></th>\n",
              "      <th></th>\n",
              "      <th></th>\n",
              "      <th></th>\n",
              "      <th></th>\n",
              "      <th></th>\n",
              "      <th></th>\n",
              "      <th></th>\n",
              "      <th></th>\n",
              "      <th></th>\n",
              "      <th></th>\n",
              "      <th></th>\n",
              "      <th></th>\n",
              "      <th></th>\n",
              "      <th></th>\n",
              "      <th></th>\n",
              "      <th></th>\n",
              "    </tr>\n",
              "  </thead>\n",
              "  <tbody>\n",
              "    <tr>\n",
              "      <th>100057229</th>\n",
              "      <td>1.000000</td>\n",
              "      <td>-0.102897</td>\n",
              "      <td>0.000000</td>\n",
              "      <td>0.0</td>\n",
              "      <td>0.000000</td>\n",
              "      <td>0.0</td>\n",
              "      <td>0.000000</td>\n",
              "      <td>0.000000</td>\n",
              "      <td>0.112023</td>\n",
              "      <td>0.000000</td>\n",
              "      <td>...</td>\n",
              "      <td>0.000000</td>\n",
              "      <td>0.000000</td>\n",
              "      <td>0.000000</td>\n",
              "      <td>0.0</td>\n",
              "      <td>0.000000</td>\n",
              "      <td>-0.074536</td>\n",
              "      <td>0.000000</td>\n",
              "      <td>0.052849</td>\n",
              "      <td>0.000000</td>\n",
              "      <td>0.0</td>\n",
              "    </tr>\n",
              "    <tr>\n",
              "      <th>100096071</th>\n",
              "      <td>-0.102897</td>\n",
              "      <td>1.000000</td>\n",
              "      <td>0.049862</td>\n",
              "      <td>0.0</td>\n",
              "      <td>0.000000</td>\n",
              "      <td>0.0</td>\n",
              "      <td>0.067894</td>\n",
              "      <td>0.000000</td>\n",
              "      <td>-0.154673</td>\n",
              "      <td>-0.186033</td>\n",
              "      <td>...</td>\n",
              "      <td>0.303790</td>\n",
              "      <td>0.036035</td>\n",
              "      <td>0.000000</td>\n",
              "      <td>0.0</td>\n",
              "      <td>-0.150648</td>\n",
              "      <td>-0.046017</td>\n",
              "      <td>0.000000</td>\n",
              "      <td>0.013983</td>\n",
              "      <td>0.039199</td>\n",
              "      <td>0.0</td>\n",
              "    </tr>\n",
              "    <tr>\n",
              "      <th>100311267</th>\n",
              "      <td>0.000000</td>\n",
              "      <td>0.049862</td>\n",
              "      <td>1.000000</td>\n",
              "      <td>0.0</td>\n",
              "      <td>-0.004669</td>\n",
              "      <td>0.0</td>\n",
              "      <td>0.000000</td>\n",
              "      <td>-0.030655</td>\n",
              "      <td>0.178706</td>\n",
              "      <td>0.000000</td>\n",
              "      <td>...</td>\n",
              "      <td>-0.054711</td>\n",
              "      <td>0.280644</td>\n",
              "      <td>0.032827</td>\n",
              "      <td>0.0</td>\n",
              "      <td>-0.035141</td>\n",
              "      <td>0.645942</td>\n",
              "      <td>0.000000</td>\n",
              "      <td>-0.128874</td>\n",
              "      <td>0.000000</td>\n",
              "      <td>0.0</td>\n",
              "    </tr>\n",
              "    <tr>\n",
              "      <th>100322840</th>\n",
              "      <td>0.000000</td>\n",
              "      <td>0.000000</td>\n",
              "      <td>0.000000</td>\n",
              "      <td>1.0</td>\n",
              "      <td>0.000000</td>\n",
              "      <td>0.0</td>\n",
              "      <td>0.000000</td>\n",
              "      <td>0.000000</td>\n",
              "      <td>0.000000</td>\n",
              "      <td>0.000000</td>\n",
              "      <td>...</td>\n",
              "      <td>0.000000</td>\n",
              "      <td>0.000000</td>\n",
              "      <td>0.000000</td>\n",
              "      <td>0.0</td>\n",
              "      <td>0.259037</td>\n",
              "      <td>0.000000</td>\n",
              "      <td>0.204124</td>\n",
              "      <td>0.000000</td>\n",
              "      <td>0.000000</td>\n",
              "      <td>0.0</td>\n",
              "    </tr>\n",
              "    <tr>\n",
              "      <th>100351493</th>\n",
              "      <td>0.000000</td>\n",
              "      <td>0.000000</td>\n",
              "      <td>-0.004669</td>\n",
              "      <td>0.0</td>\n",
              "      <td>1.000000</td>\n",
              "      <td>0.0</td>\n",
              "      <td>0.172433</td>\n",
              "      <td>0.000000</td>\n",
              "      <td>0.000000</td>\n",
              "      <td>0.000000</td>\n",
              "      <td>...</td>\n",
              "      <td>0.000000</td>\n",
              "      <td>0.000000</td>\n",
              "      <td>0.000000</td>\n",
              "      <td>0.0</td>\n",
              "      <td>0.000000</td>\n",
              "      <td>0.000000</td>\n",
              "      <td>0.000000</td>\n",
              "      <td>0.000000</td>\n",
              "      <td>0.000000</td>\n",
              "      <td>0.0</td>\n",
              "    </tr>\n",
              "  </tbody>\n",
              "</table>\n",
              "<p>5 rows × 3059 columns</p>\n",
              "</div>\n",
              "      <button class=\"colab-df-convert\" onclick=\"convertToInteractive('df-4ecd46e6-2897-4838-913a-f6b7242e44c5')\"\n",
              "              title=\"Convert this dataframe to an interactive table.\"\n",
              "              style=\"display:none;\">\n",
              "        \n",
              "  <svg xmlns=\"http://www.w3.org/2000/svg\" height=\"24px\"viewBox=\"0 0 24 24\"\n",
              "       width=\"24px\">\n",
              "    <path d=\"M0 0h24v24H0V0z\" fill=\"none\"/>\n",
              "    <path d=\"M18.56 5.44l.94 2.06.94-2.06 2.06-.94-2.06-.94-.94-2.06-.94 2.06-2.06.94zm-11 1L8.5 8.5l.94-2.06 2.06-.94-2.06-.94L8.5 2.5l-.94 2.06-2.06.94zm10 10l.94 2.06.94-2.06 2.06-.94-2.06-.94-.94-2.06-.94 2.06-2.06.94z\"/><path d=\"M17.41 7.96l-1.37-1.37c-.4-.4-.92-.59-1.43-.59-.52 0-1.04.2-1.43.59L10.3 9.45l-7.72 7.72c-.78.78-.78 2.05 0 2.83L4 21.41c.39.39.9.59 1.41.59.51 0 1.02-.2 1.41-.59l7.78-7.78 2.81-2.81c.8-.78.8-2.07 0-2.86zM5.41 20L4 18.59l7.72-7.72 1.47 1.35L5.41 20z\"/>\n",
              "  </svg>\n",
              "      </button>\n",
              "      \n",
              "  <style>\n",
              "    .colab-df-container {\n",
              "      display:flex;\n",
              "      flex-wrap:wrap;\n",
              "      gap: 12px;\n",
              "    }\n",
              "\n",
              "    .colab-df-convert {\n",
              "      background-color: #E8F0FE;\n",
              "      border: none;\n",
              "      border-radius: 50%;\n",
              "      cursor: pointer;\n",
              "      display: none;\n",
              "      fill: #1967D2;\n",
              "      height: 32px;\n",
              "      padding: 0 0 0 0;\n",
              "      width: 32px;\n",
              "    }\n",
              "\n",
              "    .colab-df-convert:hover {\n",
              "      background-color: #E2EBFA;\n",
              "      box-shadow: 0px 1px 2px rgba(60, 64, 67, 0.3), 0px 1px 3px 1px rgba(60, 64, 67, 0.15);\n",
              "      fill: #174EA6;\n",
              "    }\n",
              "\n",
              "    [theme=dark] .colab-df-convert {\n",
              "      background-color: #3B4455;\n",
              "      fill: #D2E3FC;\n",
              "    }\n",
              "\n",
              "    [theme=dark] .colab-df-convert:hover {\n",
              "      background-color: #434B5C;\n",
              "      box-shadow: 0px 1px 3px 1px rgba(0, 0, 0, 0.15);\n",
              "      filter: drop-shadow(0px 1px 2px rgba(0, 0, 0, 0.3));\n",
              "      fill: #FFFFFF;\n",
              "    }\n",
              "  </style>\n",
              "\n",
              "      <script>\n",
              "        const buttonEl =\n",
              "          document.querySelector('#df-4ecd46e6-2897-4838-913a-f6b7242e44c5 button.colab-df-convert');\n",
              "        buttonEl.style.display =\n",
              "          google.colab.kernel.accessAllowed ? 'block' : 'none';\n",
              "\n",
              "        async function convertToInteractive(key) {\n",
              "          const element = document.querySelector('#df-4ecd46e6-2897-4838-913a-f6b7242e44c5');\n",
              "          const dataTable =\n",
              "            await google.colab.kernel.invokeFunction('convertToInteractive',\n",
              "                                                     [key], {});\n",
              "          if (!dataTable) return;\n",
              "\n",
              "          const docLinkHtml = 'Like what you see? Visit the ' +\n",
              "            '<a target=\"_blank\" href=https://colab.research.google.com/notebooks/data_table.ipynb>data table notebook</a>'\n",
              "            + ' to learn more about interactive tables.';\n",
              "          element.innerHTML = '';\n",
              "          dataTable['output_type'] = 'display_data';\n",
              "          await google.colab.output.renderOutput(dataTable, element);\n",
              "          const docLink = document.createElement('div');\n",
              "          docLink.innerHTML = docLinkHtml;\n",
              "          element.appendChild(docLink);\n",
              "        }\n",
              "      </script>\n",
              "    </div>\n",
              "  </div>\n",
              "  "
            ]
          },
          "metadata": {},
          "execution_count": 77
        }
      ]
    },
    {
      "cell_type": "code",
      "execution_count": 80,
      "metadata": {
        "id": "VBSl_QsTUbCh"
      },
      "outputs": [],
      "source": [
        "# write a function which will return the top 10 games with the highest cosine similarity value\n",
        "\n",
        "def top_games(game):\n",
        "  count=1\n",
        "  print('Similar game to {} include : \\n'.format(game))\n",
        "  for item in df_item.sort_values(ascending=False, by=game).index[1:11]:\n",
        "    print('No. {} = {}'.format(count, item))\n",
        "    count+=1\n"
      ]
    },
    {
      "cell_type": "code",
      "execution_count": 81,
      "metadata": {
        "colab": {
          "base_uri": "https://localhost:8080/"
        },
        "id": "JZ3vQNUQUbA9",
        "outputId": "e3df856f-4fec-4b35-c3b7-07235c31bfba"
      },
      "outputs": [
        {
          "output_type": "stream",
          "name": "stdout",
          "text": [
            "Similar game to Aftermath include : \n",
            "\n",
            "No. 1 = Alice Madness Returns\n",
            "No. 2 = Shadow Warrior\n",
            "No. 3 = Brtal Legend\n",
            "No. 4 = Resident Evil 5 / Biohazard 5\n",
            "No. 5 = Infestation Survivor Stories\n",
            "No. 6 = Call of Juarez Gunslinger\n",
            "No. 7 = The Walking Dead Season Two\n",
            "No. 8 = Grand Theft Auto Vice City\n",
            "No. 9 = Counter-Strike Nexon Zombies\n",
            "No. 10 = Star Conflict\n"
          ]
        }
      ],
      "source": [
        "top_games('Aftermath')"
      ]
    },
    {
      "cell_type": "code",
      "execution_count": 82,
      "metadata": {
        "colab": {
          "base_uri": "https://localhost:8080/"
        },
        "id": "0v0_2KKkW6BN",
        "outputId": "be1104e3-c06b-458c-e863-474518639619"
      },
      "outputs": [
        {
          "output_type": "execute_result",
          "data": {
            "text/plain": [
              "Index(['100057229', '100096071', '100311267', '100322840', '100351493',\n",
              "       '100359523', '100431715', '100444456', '100519466', '100630947',\n",
              "       ...\n",
              "       '994489', '9946133', '99484728', '99640715', '99704390', '99711581',\n",
              "       '99713453', '99723205', '99766416', '99802512'],\n",
              "      dtype='object', name='User_ID', length=3059)"
            ]
          },
          "metadata": {},
          "execution_count": 82
        }
      ],
      "source": [
        "# check the column of pivot table\n",
        "PT.columns"
      ]
    },
    {
      "cell_type": "code",
      "execution_count": 83,
      "metadata": {
        "id": "U6_RWwwWUa_b"
      },
      "outputs": [],
      "source": [
        "# write a function which will return the top 5 users with the highest similarity value \n",
        "def user_id(user):\n",
        "  if user not in PT.columns:\n",
        "    print('No data available for this user {}'.format(user))\n",
        "  \n",
        "  sim_val = df_user.sort_values(by =user,ascending=False).loc[:,user].tolist()[1:6]\n",
        "  sim_user = df_user.sort_values(by = user,ascending=False).index[1:6]\n",
        "  zipped = zip(sim_user,sim_val)\n",
        "  for user, sim in zipped:\n",
        "    print('user #{0},similarity values :{1:.2f}'.format(user,sim))\n",
        "\n"
      ]
    },
    {
      "cell_type": "code",
      "execution_count": 85,
      "metadata": {
        "colab": {
          "base_uri": "https://localhost:8080/"
        },
        "id": "zgwURJjDUa84",
        "outputId": "163569af-a5e4-4529-d129-552648632218"
      },
      "outputs": [
        {
          "output_type": "stream",
          "name": "stdout",
          "text": [
            "user #40289887,similarity values :0.73\n",
            "user #185494712,similarity values :0.71\n",
            "user #16710264,similarity values :0.71\n",
            "user #20566124,similarity values :0.67\n",
            "user #49769103,similarity values :0.67\n"
          ]
        }
      ],
      "source": [
        "user_id('99484728')"
      ]
    },
    {
      "cell_type": "code",
      "execution_count": 86,
      "metadata": {
        "id": "Ucy6tuedUa6N"
      },
      "outputs": [],
      "source": [
        "from numpy.core.fromnumeric import ptp\n",
        "# write a function which constructs a list of lists containing the highest rated games per similar user\n",
        "# and returns the name of the game along with the frequency it appears in the list\n",
        "\n",
        "def simi_user_recs(user):\n",
        "    if user not in PT.columns:\n",
        "        print('No data available for this user {}'.format(user))\n",
        "    sim_user = df_user.sort_values(by = user,ascending=False).index[1:11]\n",
        "    best = []\n",
        "    most_common = {}\n",
        "    for i in sim_user:\n",
        "        max_scorce = PT.loc[:,i].max()\n",
        "        best.append(PT[PT.loc[:,i] == max_scorce].index.tolist())\n",
        "    for i in range(len(best)):\n",
        "        for j in best[i]:\n",
        "                   if j in most_common:\n",
        "                       most_common[j] =+1\n",
        "                   else :\n",
        "                       most_common[j] =1\n",
        "    sorted_item = sorted(most_common.items(),key=operator.itemgetter(1),reverse=True)\n",
        "    return sorted_item[:6]"
      ]
    },
    {
      "cell_type": "code",
      "execution_count": 88,
      "metadata": {
        "colab": {
          "base_uri": "https://localhost:8080/"
        },
        "id": "ewOZTTgYUa4E",
        "outputId": "bc9fc21a-fcbb-4198-b542-e9fd7fab90dd"
      },
      "outputs": [
        {
          "output_type": "execute_result",
          "data": {
            "text/plain": [
              "[('Robocraft', 1),\n",
              " ('BLOCKADE 3D', 1),\n",
              " (\"Garry's Mod\", 1),\n",
              " ('ARK Survival Evolved', 1),\n",
              " ('Dino D-Day', 1),\n",
              " ('AdVenture Capitalist', 1)]"
            ]
          },
          "metadata": {},
          "execution_count": 88
        }
      ],
      "source": [
        "simi_user_recs('100519466')\n"
      ]
    },
    {
      "cell_type": "markdown",
      "metadata": {
        "id": "B-gp2ijmu1aS"
      },
      "source": [
        "# COLLABORATIVE FILTERING USING KNN\n",
        "\n",
        "Collaborative Filtering Using k-Nearest Neighbors (kNN). kNN is a machine learning algorithm to find clusters of similar users based on common ratings, and make predictions using the average rating of top-k nearest neighbors.\n",
        "\n",
        "https://datascienceplus.com/building-a-book-recommender-system-the-basics-knn-and-matrix-factorization/"
      ]
    },
    {
      "cell_type": "code",
      "execution_count": 89,
      "metadata": {
        "colab": {
          "base_uri": "https://localhost:8080/"
        },
        "id": "t1gOIvynUaxv",
        "outputId": "10e3c15a-4a02-44c2-83d3-592a7ef7da0d"
      },
      "outputs": [
        {
          "output_type": "execute_result",
          "data": {
            "text/plain": [
              "NearestNeighbors(algorithm='brute', metric='cosine', n_jobs=-1, n_neighbors=20)"
            ]
          },
          "metadata": {},
          "execution_count": 89
        }
      ],
      "source": [
        "# import NearestNeighbors\n",
        "from sklearn.neighbors import NearestNeighbors\n",
        "#make an object for the NearestNeighbors Class.\n",
        "KNN = NearestNeighbors(algorithm='brute', leaf_size=30, metric='cosine', n_jobs=-1, n_neighbors=20)\n",
        "# fit the dataset\n",
        "KNN.fit(PT)"
      ]
    },
    {
      "cell_type": "markdown",
      "metadata": {
        "id": "DUQpiGdRFP6w"
      },
      "source": [
        "\n",
        "Test model and make some recommendations:"
      ]
    },
    {
      "cell_type": "code",
      "execution_count": 90,
      "metadata": {
        "colab": {
          "base_uri": "https://localhost:8080/"
        },
        "id": "lYoqkJefFujG",
        "outputId": "3a5ba595-4475-434e-be5c-18361e7b150e"
      },
      "outputs": [
        {
          "output_type": "stream",
          "name": "stdout",
          "text": [
            "Choosen game is : Call of Duty Black Ops III\n",
            "Recommendation for Call of Duty Black Ops III \n",
            "\n",
            "1 : Spelunky with distance of 0.8913790927643311\n",
            "2 : Call of Duty Advanced Warfare - Multiplayer with distance of 0.9033611324917568\n",
            "3 : BioShock with distance of 0.9172374796425349\n",
            "4 : Kerbal Space Program with distance of 0.9195048485556988\n",
            "5 : Saints Row 2 with distance of 0.9241116999209372\n"
          ]
        },
        {
          "output_type": "stream",
          "name": "stderr",
          "text": [
            "/usr/local/lib/python3.7/dist-packages/sklearn/base.py:451: UserWarning: X does not have valid feature names, but NearestNeighbors was fitted with feature names\n",
            "  \"X does not have valid feature names, but\"\n"
          ]
        }
      ],
      "source": [
        "# choose random game\n",
        "qurry = np.random.choice(PT.shape[0])\n",
        "# print the name of random game\n",
        "print('Choosen game is :',PT.index[qurry])\n",
        "\n",
        "# use kNN algorithm to measures distance to determine the closeness of instances.\n",
        "distance , indices = KNN.kneighbors(PT.iloc[qurry,:].values.reshape(1,-1),n_neighbors=6)\n",
        "\n",
        "# pick most popular games among the neighbors and print their names\n",
        "for i in range(0,len(distance.flatten())):\n",
        "    if i == 0:\n",
        "        print('Recommendation for {0} \\n'.format(PT.index[qurry]))\n",
        "    else:\n",
        "        print('{0} : {1} with distance of {2}'.format(i,PT.index[indices.flatten()[i]], distance.flatten()[i]))\n"
      ]
    },
    {
      "cell_type": "markdown",
      "metadata": {
        "id": "qQdGSocKKfYP"
      },
      "source": [
        "#Conclusion\n",
        "\n",
        "We can use different different methods based on our problem statement and dataset. Here we used collaborative filtering technique to recommend games.We can use this method to recommend alot of other things as well such as music, movies, books, news etc. "
      ]
    }
  ],
  "metadata": {
    "colab": {
      "collapsed_sections": [],
      "provenance": []
    },
    "kernelspec": {
      "display_name": "Python 3",
      "language": "python",
      "name": "python3"
    },
    "language_info": {
      "codemirror_mode": {
        "name": "ipython",
        "version": 3
      },
      "file_extension": ".py",
      "mimetype": "text/x-python",
      "name": "python",
      "nbconvert_exporter": "python",
      "pygments_lexer": "ipython3",
      "version": "3.7.6"
    }
  },
  "nbformat": 4,
  "nbformat_minor": 0
}